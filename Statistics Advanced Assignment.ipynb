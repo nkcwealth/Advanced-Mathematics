{
  "cells": [
    {
      "cell_type": "markdown",
      "metadata": {
        "id": "QvtD0SxEOPGe"
      },
      "source": [
        "<a id='1'></a><center> <h3 style=\"background-color:orange; color:white\" ><br>Telecommunication Industry Project<br></h3>"
      ]
    },
    {
      "cell_type": "markdown",
      "metadata": {
        "id": "_pzTIrVbOcFF"
      },
      "source": [
        "# Introduction\n",
        "This Jupyter notebook is part of your learning experience in the study of applied statistics.\n",
        "\n",
        "You will work with a data set that contains mobile phone prices and their specifications.\n",
        "\n",
        "**Dataset Columns Information**\n",
        "\n",
        "PID = a unique identifier for the phone model\n",
        "\n",
        "Blue = whether the phone has bluetooth support or not\n",
        "\n",
        "Wi_Fi = whether the phone has wifi support or not\n",
        "\n",
        "Tch_Scr = whether the phone has touch screen support or not\n",
        "\n",
        "Ext_Mem = whether the phone has external memory support or not\n",
        "\n",
        "Px_h = number of pixels in the vertical axis of the phone\n",
        "\n",
        "Px_w = number of pixels in the horizontal axis of the phone\n",
        "\n",
        "Scr_h = height of the screen of the phone in centimetres (cm)\n",
        "\n",
        "Scr_w = width of the screen of the phone in centimetres (cm)\n",
        "\n",
        "Int_Mem = internal memory of the phone measured in megabytes (MB)\n",
        "\n",
        "Bty_Pwr = maximum energy stored by the phone's battery measured in \n",
        "milli-Ampere-hours (mAh)\n",
        "\n",
        "PC = resolution of the primary camera measued in megapixels (MP)\n",
        "\n",
        "FC = resolution of the front camera measued in megapixels (MP)\n",
        "\n",
        "RAM = random access memory available in the phone measured in gigabytes (GB)\n",
        "\n",
        "Depth = depth of the mobile phone measured in centimetres (cm)\n",
        "\n",
        "Weight = weight of the mobile phone measured in grams (g)\n",
        "\n",
        "Price = selling price of the mobile phone in rupees\n"
      ]
    },
    {
      "cell_type": "code",
      "execution_count": 2,
      "metadata": {
        "id": "wEXybtFON854"
      },
      "outputs": [
        {
          "name": "stdout",
          "output_type": "stream",
          "text": [
            "Collecting pandas\n",
            "  Downloading pandas-2.2.3-cp313-cp313-win_amd64.whl.metadata (19 kB)\n",
            "Requirement already satisfied: numpy>=1.26.0 in c:\\users\\ddvad\\appdata\\local\\programs\\python\\python313\\lib\\site-packages (from pandas) (2.2.4)\n",
            "Requirement already satisfied: python-dateutil>=2.8.2 in c:\\users\\ddvad\\appdata\\roaming\\python\\python313\\site-packages (from pandas) (2.9.0.post0)\n",
            "Collecting pytz>=2020.1 (from pandas)\n",
            "  Downloading pytz-2025.2-py2.py3-none-any.whl.metadata (22 kB)\n",
            "Collecting tzdata>=2022.7 (from pandas)\n",
            "  Downloading tzdata-2025.2-py2.py3-none-any.whl.metadata (1.4 kB)\n",
            "Requirement already satisfied: six>=1.5 in c:\\users\\ddvad\\appdata\\roaming\\python\\python313\\site-packages (from python-dateutil>=2.8.2->pandas) (1.17.0)\n",
            "Downloading pandas-2.2.3-cp313-cp313-win_amd64.whl (11.5 MB)\n",
            "   ---------------------------------------- 0.0/11.5 MB ? eta -:--:--\n",
            "   --- ------------------------------------ 1.0/11.5 MB 9.0 MB/s eta 0:00:02\n",
            "   ------- -------------------------------- 2.1/11.5 MB 5.8 MB/s eta 0:00:02\n",
            "   ---------- ----------------------------- 3.1/11.5 MB 5.3 MB/s eta 0:00:02\n",
            "   -------------- ------------------------- 4.2/11.5 MB 5.2 MB/s eta 0:00:02\n",
            "   ------------------ --------------------- 5.2/11.5 MB 5.2 MB/s eta 0:00:02\n",
            "   --------------------- ------------------ 6.3/11.5 MB 5.2 MB/s eta 0:00:01\n",
            "   ------------------------- -------------- 7.3/11.5 MB 5.1 MB/s eta 0:00:01\n",
            "   ---------------------------- ----------- 8.1/11.5 MB 4.9 MB/s eta 0:00:01\n",
            "   ------------------------------- -------- 8.9/11.5 MB 4.8 MB/s eta 0:00:01\n",
            "   ------------------------------- -------- 9.2/11.5 MB 4.4 MB/s eta 0:00:01\n",
            "   ---------------------------------- ----- 10.0/11.5 MB 4.4 MB/s eta 0:00:01\n",
            "   -------------------------------------- - 11.0/11.5 MB 4.4 MB/s eta 0:00:01\n",
            "   ---------------------------------------- 11.5/11.5 MB 4.3 MB/s eta 0:00:00\n",
            "Downloading pytz-2025.2-py2.py3-none-any.whl (509 kB)\n",
            "Downloading tzdata-2025.2-py2.py3-none-any.whl (347 kB)\n",
            "Installing collected packages: pytz, tzdata, pandas\n",
            "Successfully installed pandas-2.2.3 pytz-2025.2 tzdata-2025.2\n"
          ]
        }
      ],
      "source": [
        "!pip install pandas"
      ]
    },
    {
      "cell_type": "markdown",
      "metadata": {
        "id": "YCLhIkwFO4Tj"
      },
      "source": [
        "## Task 1 - Load and study the data"
      ]
    },
    {
      "cell_type": "markdown",
      "metadata": {
        "id": "CBMdPgPUO89Y"
      },
      "source": [
        "Import the libraries that will be used in this notebook"
      ]
    },
    {
      "cell_type": "code",
      "execution_count": null,
      "metadata": {
        "id": "z9ZS2Tw2N857"
      },
      "outputs": [],
      "source": [
        "# Load \"numpy\" and \"pandas\" for manipulating numbers and data frames\n",
        "# Load \"matplotlib.pyplot\" and \"seaborn\" for data visualisation\n",
        "\n",
        "import numpy as np                   # For numerical operations\n",
        "import pandas as pd                  # For working with dataframes\n",
        "import matplotlib.pyplot as plt      # For plotting graphs\n",
        "import seaborn as sns\n",
        "import matplotlib.pyplot as plt"
      ]
    },
    {
      "cell_type": "markdown",
      "metadata": {
        "id": "7rdvm8PDPCgM"
      },
      "source": [
        "Load the csv file as pandas dataframe. "
      ]
    },
    {
      "cell_type": "code",
      "execution_count": null,
      "metadata": {
        "id": "7p5Rg_AkN858"
      },
      "outputs": [
        {
          "name": "stderr",
          "output_type": "stream",
          "text": [
            "<>:2: SyntaxWarning: invalid escape sequence '\\C'\n",
            "<>:2: SyntaxWarning: invalid escape sequence '\\C'\n",
            "C:\\Users\\ddvad\\AppData\\Local\\Temp\\ipykernel_9060\\534774882.py:2: SyntaxWarning: invalid escape sequence '\\C'\n",
            "  df = pd.read_csv(\"D:\\COURSES\\RUDRAKS\\Telecom Dataset.csv\")  # Replace with your actual file name if it's different\n"
          ]
        },
        {
          "data": {
            "text/html": [
              "<div>\n",
              "<style scoped>\n",
              "    .dataframe tbody tr th:only-of-type {\n",
              "        vertical-align: middle;\n",
              "    }\n",
              "\n",
              "    .dataframe tbody tr th {\n",
              "        vertical-align: top;\n",
              "    }\n",
              "\n",
              "    .dataframe thead th {\n",
              "        text-align: right;\n",
              "    }\n",
              "</style>\n",
              "<table border=\"1\" class=\"dataframe\">\n",
              "  <thead>\n",
              "    <tr style=\"text-align: right;\">\n",
              "      <th></th>\n",
              "      <th>PID</th>\n",
              "      <th>Blue</th>\n",
              "      <th>Wi_Fi</th>\n",
              "      <th>Tch_Scr</th>\n",
              "      <th>Ext_Mem</th>\n",
              "      <th>Px_h</th>\n",
              "      <th>Px_w</th>\n",
              "      <th>Scr_h</th>\n",
              "      <th>Scr_w</th>\n",
              "      <th>PC</th>\n",
              "      <th>FC</th>\n",
              "      <th>Int_Mem</th>\n",
              "      <th>Bty_Pwr</th>\n",
              "      <th>RAM</th>\n",
              "      <th>Depth</th>\n",
              "      <th>Weight</th>\n",
              "      <th>Price</th>\n",
              "    </tr>\n",
              "  </thead>\n",
              "  <tbody>\n",
              "    <tr>\n",
              "      <th>0</th>\n",
              "      <td>AAB346A</td>\n",
              "      <td>yes</td>\n",
              "      <td>yes</td>\n",
              "      <td>no</td>\n",
              "      <td>no</td>\n",
              "      <td>780</td>\n",
              "      <td>460</td>\n",
              "      <td>3</td>\n",
              "      <td>1</td>\n",
              "      <td>2</td>\n",
              "      <td>2</td>\n",
              "      <td>8</td>\n",
              "      <td>2800</td>\n",
              "      <td>2</td>\n",
              "      <td>7</td>\n",
              "      <td>320</td>\n",
              "      <td>3297</td>\n",
              "    </tr>\n",
              "    <tr>\n",
              "      <th>1</th>\n",
              "      <td>AAC347I</td>\n",
              "      <td>yes</td>\n",
              "      <td>yes</td>\n",
              "      <td>no</td>\n",
              "      <td>no</td>\n",
              "      <td>780</td>\n",
              "      <td>560</td>\n",
              "      <td>2</td>\n",
              "      <td>1</td>\n",
              "      <td>4</td>\n",
              "      <td>2</td>\n",
              "      <td>8</td>\n",
              "      <td>3000</td>\n",
              "      <td>2</td>\n",
              "      <td>7</td>\n",
              "      <td>280</td>\n",
              "      <td>4500</td>\n",
              "    </tr>\n",
              "    <tr>\n",
              "      <th>2</th>\n",
              "      <td>BAB657J</td>\n",
              "      <td>no</td>\n",
              "      <td>yes</td>\n",
              "      <td>no</td>\n",
              "      <td>no</td>\n",
              "      <td>840</td>\n",
              "      <td>720</td>\n",
              "      <td>2</td>\n",
              "      <td>1</td>\n",
              "      <td>4</td>\n",
              "      <td>2</td>\n",
              "      <td>8</td>\n",
              "      <td>3300</td>\n",
              "      <td>2</td>\n",
              "      <td>7</td>\n",
              "      <td>400</td>\n",
              "      <td>4898</td>\n",
              "    </tr>\n",
              "    <tr>\n",
              "      <th>3</th>\n",
              "      <td>BBD456K</td>\n",
              "      <td>no</td>\n",
              "      <td>yes</td>\n",
              "      <td>yes</td>\n",
              "      <td>no</td>\n",
              "      <td>1280</td>\n",
              "      <td>1120</td>\n",
              "      <td>5</td>\n",
              "      <td>3</td>\n",
              "      <td>6</td>\n",
              "      <td>2</td>\n",
              "      <td>32</td>\n",
              "      <td>3000</td>\n",
              "      <td>2</td>\n",
              "      <td>3</td>\n",
              "      <td>300</td>\n",
              "      <td>6900</td>\n",
              "    </tr>\n",
              "    <tr>\n",
              "      <th>4</th>\n",
              "      <td>CCP761U</td>\n",
              "      <td>no</td>\n",
              "      <td>yes</td>\n",
              "      <td>yes</td>\n",
              "      <td>no</td>\n",
              "      <td>1280</td>\n",
              "      <td>1080</td>\n",
              "      <td>4</td>\n",
              "      <td>3</td>\n",
              "      <td>6</td>\n",
              "      <td>2</td>\n",
              "      <td>16</td>\n",
              "      <td>3000</td>\n",
              "      <td>2</td>\n",
              "      <td>3</td>\n",
              "      <td>210</td>\n",
              "      <td>5600</td>\n",
              "    </tr>\n",
              "  </tbody>\n",
              "</table>\n",
              "</div>"
            ],
            "text/plain": [
              "       PID Blue Wi_Fi Tch_Scr Ext_Mem  Px_h  Px_w  Scr_h  Scr_w  PC  FC  \\\n",
              "0  AAB346A  yes   yes      no      no   780   460      3      1   2   2   \n",
              "1  AAC347I  yes   yes      no      no   780   560      2      1   4   2   \n",
              "2  BAB657J   no   yes      no      no   840   720      2      1   4   2   \n",
              "3  BBD456K   no   yes     yes      no  1280  1120      5      3   6   2   \n",
              "4  CCP761U   no   yes     yes      no  1280  1080      4      3   6   2   \n",
              "\n",
              "   Int_Mem  Bty_Pwr  RAM  Depth  Weight  Price  \n",
              "0        8     2800    2      7     320   3297  \n",
              "1        8     3000    2      7     280   4500  \n",
              "2        8     3300    2      7     400   4898  \n",
              "3       32     3000    2      3     300   6900  \n",
              "4       16     3000    2      3     210   5600  "
            ]
          },
          "execution_count": 5,
          "metadata": {},
          "output_type": "execute_result"
        }
      ],
      "source": [
        "\n",
        "\n",
        "# Read in the \"Dataset\" file as a Pandas Data Frame\n",
        "df = pd.read_csv(\"https://github.com/nkcwealth/Advanced-Mathematics/blob/main/Telecom%20Dataset.csv\")  # Replace with your actual file name if it's different\n",
        "\n",
        "# Display the first few rows of the data\n",
        "df.head()\n"
      ]
    },
    {
      "cell_type": "code",
      "execution_count": 6,
      "metadata": {
        "id": "WdfT3N-iN859"
      },
      "outputs": [
        {
          "name": "stdout",
          "output_type": "stream",
          "text": [
            "First 5 rows of the dataset:\n"
          ]
        },
        {
          "data": {
            "text/html": [
              "<div>\n",
              "<style scoped>\n",
              "    .dataframe tbody tr th:only-of-type {\n",
              "        vertical-align: middle;\n",
              "    }\n",
              "\n",
              "    .dataframe tbody tr th {\n",
              "        vertical-align: top;\n",
              "    }\n",
              "\n",
              "    .dataframe thead th {\n",
              "        text-align: right;\n",
              "    }\n",
              "</style>\n",
              "<table border=\"1\" class=\"dataframe\">\n",
              "  <thead>\n",
              "    <tr style=\"text-align: right;\">\n",
              "      <th></th>\n",
              "      <th>PID</th>\n",
              "      <th>Blue</th>\n",
              "      <th>Wi_Fi</th>\n",
              "      <th>Tch_Scr</th>\n",
              "      <th>Ext_Mem</th>\n",
              "      <th>Px_h</th>\n",
              "      <th>Px_w</th>\n",
              "      <th>Scr_h</th>\n",
              "      <th>Scr_w</th>\n",
              "      <th>PC</th>\n",
              "      <th>FC</th>\n",
              "      <th>Int_Mem</th>\n",
              "      <th>Bty_Pwr</th>\n",
              "      <th>RAM</th>\n",
              "      <th>Depth</th>\n",
              "      <th>Weight</th>\n",
              "      <th>Price</th>\n",
              "    </tr>\n",
              "  </thead>\n",
              "  <tbody>\n",
              "    <tr>\n",
              "      <th>0</th>\n",
              "      <td>AAB346A</td>\n",
              "      <td>yes</td>\n",
              "      <td>yes</td>\n",
              "      <td>no</td>\n",
              "      <td>no</td>\n",
              "      <td>780</td>\n",
              "      <td>460</td>\n",
              "      <td>3</td>\n",
              "      <td>1</td>\n",
              "      <td>2</td>\n",
              "      <td>2</td>\n",
              "      <td>8</td>\n",
              "      <td>2800</td>\n",
              "      <td>2</td>\n",
              "      <td>7</td>\n",
              "      <td>320</td>\n",
              "      <td>3297</td>\n",
              "    </tr>\n",
              "    <tr>\n",
              "      <th>1</th>\n",
              "      <td>AAC347I</td>\n",
              "      <td>yes</td>\n",
              "      <td>yes</td>\n",
              "      <td>no</td>\n",
              "      <td>no</td>\n",
              "      <td>780</td>\n",
              "      <td>560</td>\n",
              "      <td>2</td>\n",
              "      <td>1</td>\n",
              "      <td>4</td>\n",
              "      <td>2</td>\n",
              "      <td>8</td>\n",
              "      <td>3000</td>\n",
              "      <td>2</td>\n",
              "      <td>7</td>\n",
              "      <td>280</td>\n",
              "      <td>4500</td>\n",
              "    </tr>\n",
              "    <tr>\n",
              "      <th>2</th>\n",
              "      <td>BAB657J</td>\n",
              "      <td>no</td>\n",
              "      <td>yes</td>\n",
              "      <td>no</td>\n",
              "      <td>no</td>\n",
              "      <td>840</td>\n",
              "      <td>720</td>\n",
              "      <td>2</td>\n",
              "      <td>1</td>\n",
              "      <td>4</td>\n",
              "      <td>2</td>\n",
              "      <td>8</td>\n",
              "      <td>3300</td>\n",
              "      <td>2</td>\n",
              "      <td>7</td>\n",
              "      <td>400</td>\n",
              "      <td>4898</td>\n",
              "    </tr>\n",
              "    <tr>\n",
              "      <th>3</th>\n",
              "      <td>BBD456K</td>\n",
              "      <td>no</td>\n",
              "      <td>yes</td>\n",
              "      <td>yes</td>\n",
              "      <td>no</td>\n",
              "      <td>1280</td>\n",
              "      <td>1120</td>\n",
              "      <td>5</td>\n",
              "      <td>3</td>\n",
              "      <td>6</td>\n",
              "      <td>2</td>\n",
              "      <td>32</td>\n",
              "      <td>3000</td>\n",
              "      <td>2</td>\n",
              "      <td>3</td>\n",
              "      <td>300</td>\n",
              "      <td>6900</td>\n",
              "    </tr>\n",
              "    <tr>\n",
              "      <th>4</th>\n",
              "      <td>CCP761U</td>\n",
              "      <td>no</td>\n",
              "      <td>yes</td>\n",
              "      <td>yes</td>\n",
              "      <td>no</td>\n",
              "      <td>1280</td>\n",
              "      <td>1080</td>\n",
              "      <td>4</td>\n",
              "      <td>3</td>\n",
              "      <td>6</td>\n",
              "      <td>2</td>\n",
              "      <td>16</td>\n",
              "      <td>3000</td>\n",
              "      <td>2</td>\n",
              "      <td>3</td>\n",
              "      <td>210</td>\n",
              "      <td>5600</td>\n",
              "    </tr>\n",
              "  </tbody>\n",
              "</table>\n",
              "</div>"
            ],
            "text/plain": [
              "       PID Blue Wi_Fi Tch_Scr Ext_Mem  Px_h  Px_w  Scr_h  Scr_w  PC  FC  \\\n",
              "0  AAB346A  yes   yes      no      no   780   460      3      1   2   2   \n",
              "1  AAC347I  yes   yes      no      no   780   560      2      1   4   2   \n",
              "2  BAB657J   no   yes      no      no   840   720      2      1   4   2   \n",
              "3  BBD456K   no   yes     yes      no  1280  1120      5      3   6   2   \n",
              "4  CCP761U   no   yes     yes      no  1280  1080      4      3   6   2   \n",
              "\n",
              "   Int_Mem  Bty_Pwr  RAM  Depth  Weight  Price  \n",
              "0        8     2800    2      7     320   3297  \n",
              "1        8     3000    2      7     280   4500  \n",
              "2        8     3300    2      7     400   4898  \n",
              "3       32     3000    2      3     300   6900  \n",
              "4       16     3000    2      3     210   5600  "
            ]
          },
          "metadata": {},
          "output_type": "display_data"
        },
        {
          "name": "stdout",
          "output_type": "stream",
          "text": [
            "\n",
            "Shape of the dataset:\n",
            "(50, 17)\n",
            "\n",
            "Info about the dataset:\n",
            "<class 'pandas.core.frame.DataFrame'>\n",
            "RangeIndex: 50 entries, 0 to 49\n",
            "Data columns (total 17 columns):\n",
            " #   Column   Non-Null Count  Dtype \n",
            "---  ------   --------------  ----- \n",
            " 0   PID      50 non-null     object\n",
            " 1   Blue     50 non-null     object\n",
            " 2   Wi_Fi    50 non-null     object\n",
            " 3   Tch_Scr  50 non-null     object\n",
            " 4   Ext_Mem  50 non-null     object\n",
            " 5   Px_h     50 non-null     int64 \n",
            " 6   Px_w     50 non-null     int64 \n",
            " 7   Scr_h    50 non-null     int64 \n",
            " 8   Scr_w    50 non-null     int64 \n",
            " 9   PC       50 non-null     int64 \n",
            " 10  FC       50 non-null     int64 \n",
            " 11  Int_Mem  50 non-null     int64 \n",
            " 12  Bty_Pwr  50 non-null     int64 \n",
            " 13  RAM      50 non-null     int64 \n",
            " 14  Depth    50 non-null     int64 \n",
            " 15  Weight   50 non-null     int64 \n",
            " 16  Price    50 non-null     int64 \n",
            "dtypes: int64(12), object(5)\n",
            "memory usage: 6.8+ KB\n",
            "\n",
            "Statistical summary of the dataset:\n"
          ]
        },
        {
          "data": {
            "text/html": [
              "<div>\n",
              "<style scoped>\n",
              "    .dataframe tbody tr th:only-of-type {\n",
              "        vertical-align: middle;\n",
              "    }\n",
              "\n",
              "    .dataframe tbody tr th {\n",
              "        vertical-align: top;\n",
              "    }\n",
              "\n",
              "    .dataframe thead th {\n",
              "        text-align: right;\n",
              "    }\n",
              "</style>\n",
              "<table border=\"1\" class=\"dataframe\">\n",
              "  <thead>\n",
              "    <tr style=\"text-align: right;\">\n",
              "      <th></th>\n",
              "      <th>Px_h</th>\n",
              "      <th>Px_w</th>\n",
              "      <th>Scr_h</th>\n",
              "      <th>Scr_w</th>\n",
              "      <th>PC</th>\n",
              "      <th>FC</th>\n",
              "      <th>Int_Mem</th>\n",
              "      <th>Bty_Pwr</th>\n",
              "      <th>RAM</th>\n",
              "      <th>Depth</th>\n",
              "      <th>Weight</th>\n",
              "      <th>Price</th>\n",
              "    </tr>\n",
              "  </thead>\n",
              "  <tbody>\n",
              "    <tr>\n",
              "      <th>count</th>\n",
              "      <td>50.000000</td>\n",
              "      <td>50.000000</td>\n",
              "      <td>50.000000</td>\n",
              "      <td>50.000000</td>\n",
              "      <td>50.000000</td>\n",
              "      <td>50.000000</td>\n",
              "      <td>50.000000</td>\n",
              "      <td>50.000000</td>\n",
              "      <td>50.000000</td>\n",
              "      <td>50.000000</td>\n",
              "      <td>50.000000</td>\n",
              "      <td>50.000000</td>\n",
              "    </tr>\n",
              "    <tr>\n",
              "      <th>mean</th>\n",
              "      <td>2319.400000</td>\n",
              "      <td>1833.200000</td>\n",
              "      <td>6.500000</td>\n",
              "      <td>4.620000</td>\n",
              "      <td>42.160000</td>\n",
              "      <td>20.760000</td>\n",
              "      <td>173.760000</td>\n",
              "      <td>3740.000000</td>\n",
              "      <td>5.760000</td>\n",
              "      <td>3.440000</td>\n",
              "      <td>195.200000</td>\n",
              "      <td>33794.860000</td>\n",
              "    </tr>\n",
              "    <tr>\n",
              "      <th>std</th>\n",
              "      <td>598.400623</td>\n",
              "      <td>469.713069</td>\n",
              "      <td>2.042907</td>\n",
              "      <td>1.883223</td>\n",
              "      <td>30.174567</td>\n",
              "      <td>14.784934</td>\n",
              "      <td>261.771871</td>\n",
              "      <td>958.817299</td>\n",
              "      <td>2.759473</td>\n",
              "      <td>1.052887</td>\n",
              "      <td>75.761171</td>\n",
              "      <td>25037.535393</td>\n",
              "    </tr>\n",
              "    <tr>\n",
              "      <th>min</th>\n",
              "      <td>780.000000</td>\n",
              "      <td>460.000000</td>\n",
              "      <td>2.000000</td>\n",
              "      <td>1.000000</td>\n",
              "      <td>2.000000</td>\n",
              "      <td>2.000000</td>\n",
              "      <td>8.000000</td>\n",
              "      <td>2300.000000</td>\n",
              "      <td>2.000000</td>\n",
              "      <td>2.000000</td>\n",
              "      <td>80.000000</td>\n",
              "      <td>3297.000000</td>\n",
              "    </tr>\n",
              "    <tr>\n",
              "      <th>25%</th>\n",
              "      <td>2080.000000</td>\n",
              "      <td>1775.000000</td>\n",
              "      <td>5.000000</td>\n",
              "      <td>3.000000</td>\n",
              "      <td>12.000000</td>\n",
              "      <td>8.000000</td>\n",
              "      <td>32.000000</td>\n",
              "      <td>2800.000000</td>\n",
              "      <td>4.000000</td>\n",
              "      <td>3.000000</td>\n",
              "      <td>142.500000</td>\n",
              "      <td>19126.500000</td>\n",
              "    </tr>\n",
              "    <tr>\n",
              "      <th>50%</th>\n",
              "      <td>2580.000000</td>\n",
              "      <td>1980.000000</td>\n",
              "      <td>6.000000</td>\n",
              "      <td>5.000000</td>\n",
              "      <td>40.000000</td>\n",
              "      <td>16.000000</td>\n",
              "      <td>64.000000</td>\n",
              "      <td>3300.000000</td>\n",
              "      <td>5.000000</td>\n",
              "      <td>3.000000</td>\n",
              "      <td>190.000000</td>\n",
              "      <td>29349.500000</td>\n",
              "    </tr>\n",
              "    <tr>\n",
              "      <th>75%</th>\n",
              "      <td>2580.000000</td>\n",
              "      <td>2120.000000</td>\n",
              "      <td>8.000000</td>\n",
              "      <td>6.000000</td>\n",
              "      <td>64.000000</td>\n",
              "      <td>32.000000</td>\n",
              "      <td>128.000000</td>\n",
              "      <td>4500.000000</td>\n",
              "      <td>8.000000</td>\n",
              "      <td>4.000000</td>\n",
              "      <td>247.500000</td>\n",
              "      <td>43560.000000</td>\n",
              "    </tr>\n",
              "    <tr>\n",
              "      <th>max</th>\n",
              "      <td>2880.000000</td>\n",
              "      <td>2520.000000</td>\n",
              "      <td>10.000000</td>\n",
              "      <td>8.000000</td>\n",
              "      <td>128.000000</td>\n",
              "      <td>64.000000</td>\n",
              "      <td>1024.000000</td>\n",
              "      <td>5600.000000</td>\n",
              "      <td>12.000000</td>\n",
              "      <td>7.000000</td>\n",
              "      <td>400.000000</td>\n",
              "      <td>149000.000000</td>\n",
              "    </tr>\n",
              "  </tbody>\n",
              "</table>\n",
              "</div>"
            ],
            "text/plain": [
              "              Px_h         Px_w      Scr_h      Scr_w          PC         FC  \\\n",
              "count    50.000000    50.000000  50.000000  50.000000   50.000000  50.000000   \n",
              "mean   2319.400000  1833.200000   6.500000   4.620000   42.160000  20.760000   \n",
              "std     598.400623   469.713069   2.042907   1.883223   30.174567  14.784934   \n",
              "min     780.000000   460.000000   2.000000   1.000000    2.000000   2.000000   \n",
              "25%    2080.000000  1775.000000   5.000000   3.000000   12.000000   8.000000   \n",
              "50%    2580.000000  1980.000000   6.000000   5.000000   40.000000  16.000000   \n",
              "75%    2580.000000  2120.000000   8.000000   6.000000   64.000000  32.000000   \n",
              "max    2880.000000  2520.000000  10.000000   8.000000  128.000000  64.000000   \n",
              "\n",
              "           Int_Mem      Bty_Pwr        RAM      Depth      Weight  \\\n",
              "count    50.000000    50.000000  50.000000  50.000000   50.000000   \n",
              "mean    173.760000  3740.000000   5.760000   3.440000  195.200000   \n",
              "std     261.771871   958.817299   2.759473   1.052887   75.761171   \n",
              "min       8.000000  2300.000000   2.000000   2.000000   80.000000   \n",
              "25%      32.000000  2800.000000   4.000000   3.000000  142.500000   \n",
              "50%      64.000000  3300.000000   5.000000   3.000000  190.000000   \n",
              "75%     128.000000  4500.000000   8.000000   4.000000  247.500000   \n",
              "max    1024.000000  5600.000000  12.000000   7.000000  400.000000   \n",
              "\n",
              "               Price  \n",
              "count      50.000000  \n",
              "mean    33794.860000  \n",
              "std     25037.535393  \n",
              "min      3297.000000  \n",
              "25%     19126.500000  \n",
              "50%     29349.500000  \n",
              "75%     43560.000000  \n",
              "max    149000.000000  "
            ]
          },
          "metadata": {},
          "output_type": "display_data"
        }
      ],
      "source": [
        "# Display the first 5 rows of the dataset\n",
        "print(\"First 5 rows of the dataset:\")\n",
        "display(df.head())\n",
        "\n",
        "# Display the shape of the dataset (rows, columns)\n",
        "print(\"\\nShape of the dataset:\")\n",
        "print(df.shape)\n",
        "\n",
        "# Display basic information about the dataset (column types, non-null counts)\n",
        "print(\"\\nInfo about the dataset:\")\n",
        "df.info()\n",
        "\n",
        "# Display basic statistical summary for numeric columns\n",
        "print(\"\\nStatistical summary of the dataset:\")\n",
        "display(df.describe())\n",
        "\n"
      ]
    },
    {
      "cell_type": "code",
      "execution_count": 7,
      "metadata": {
        "id": "0jdoVTnIN85_"
      },
      "outputs": [
        {
          "name": "stdout",
          "output_type": "stream",
          "text": [
            "The dataset contains 50 rows and 17 columns.\n"
          ]
        }
      ],
      "source": [
        "# Get the dimensions of the DataFrame\n",
        "rows, columns = df.shape\n",
        "print(f\"The dataset contains {rows} rows and {columns} columns.\")\n"
      ]
    },
    {
      "cell_type": "code",
      "execution_count": 8,
      "metadata": {
        "id": "y28qZAzdN86B"
      },
      "outputs": [
        {
          "name": "stdout",
          "output_type": "stream",
          "text": [
            "Row names (index) of the DataFrame:\n",
            "RangeIndex(start=0, stop=50, step=1)\n"
          ]
        }
      ],
      "source": [
        "# Get the row names (index) of the DataFrame\n",
        "print(\"Row names (index) of the DataFrame:\")\n",
        "print(df.index)\n",
        "\n",
        "\n"
      ]
    },
    {
      "cell_type": "code",
      "execution_count": 9,
      "metadata": {
        "id": "u3wUbIm7N86C"
      },
      "outputs": [
        {
          "name": "stdout",
          "output_type": "stream",
          "text": [
            "Column names of the DataFrame:\n",
            "['PID', 'Blue', 'Wi_Fi', 'Tch_Scr', 'Ext_Mem', 'Px_h', 'Px_w', 'Scr_h', 'Scr_w', 'PC', 'FC', 'Int_Mem', 'Bty_Pwr', 'RAM', 'Depth', 'Weight', 'Price']\n"
          ]
        }
      ],
      "source": [
        "# Get the column names of the DataFrame\n",
        "print(\"Column names of the DataFrame:\")\n",
        "print(df.columns.tolist())\n",
        "\n",
        "\n"
      ]
    },
    {
      "cell_type": "code",
      "execution_count": 10,
      "metadata": {
        "id": "zoJdOWbKN86D"
      },
      "outputs": [
        {
          "name": "stdout",
          "output_type": "stream",
          "text": [
            "Basic Information about the DataFrame:\n",
            "<class 'pandas.core.frame.DataFrame'>\n",
            "RangeIndex: 50 entries, 0 to 49\n",
            "Data columns (total 17 columns):\n",
            " #   Column   Non-Null Count  Dtype \n",
            "---  ------   --------------  ----- \n",
            " 0   PID      50 non-null     object\n",
            " 1   Blue     50 non-null     object\n",
            " 2   Wi_Fi    50 non-null     object\n",
            " 3   Tch_Scr  50 non-null     object\n",
            " 4   Ext_Mem  50 non-null     object\n",
            " 5   Px_h     50 non-null     int64 \n",
            " 6   Px_w     50 non-null     int64 \n",
            " 7   Scr_h    50 non-null     int64 \n",
            " 8   Scr_w    50 non-null     int64 \n",
            " 9   PC       50 non-null     int64 \n",
            " 10  FC       50 non-null     int64 \n",
            " 11  Int_Mem  50 non-null     int64 \n",
            " 12  Bty_Pwr  50 non-null     int64 \n",
            " 13  RAM      50 non-null     int64 \n",
            " 14  Depth    50 non-null     int64 \n",
            " 15  Weight   50 non-null     int64 \n",
            " 16  Price    50 non-null     int64 \n",
            "dtypes: int64(12), object(5)\n",
            "memory usage: 6.8+ KB\n"
          ]
        }
      ],
      "source": [
        "# Look at basic information about the DataFrame\n",
        "print(\"Basic Information about the DataFrame:\")\n",
        "df.info()\n",
        "\n",
        "\n"
      ]
    },
    {
      "cell_type": "markdown",
      "metadata": {
        "id": "Yp1sfFKKQQLR"
      },
      "source": [
        "Observations:\n",
        "\n",
        "There are 50 phones in the data set.\n",
        "\n",
        "There are 17 features in the data set including the \"PID\" feature which is used as the row index labels.\n",
        "\n",
        "There are no missing values in the data set."
      ]
    },
    {
      "cell_type": "code",
      "execution_count": 7,
      "metadata": {
        "id": "F7O4y4kyN86F"
      },
      "outputs": [],
      "source": []
    },
    {
      "cell_type": "markdown",
      "metadata": {
        "id": "K6wSkK61E57v"
      },
      "source": [
        "<center>Let's try some logical operators to filter the data.<center>"
      ]
    },
    {
      "cell_type": "markdown",
      "metadata": {
        "id": "Fjx3ajuFFN5H"
      },
      "source": [
        "![](https://th.bing.com/th/id/R.0592084daa6518e4fae97f47217ec69e?rik=vNqmiaTVSSo54w&riu=http%3a%2f%2f2.bp.blogspot.com%2f-ujABms6N-Cg%2fTyYwShdTjnI%2fAAAAAAAAAAs%2fktPbHdifidc%2fs1600%2fLogical%2bOperators.PNG&ehk=ww1gl1HB2PcZwPQNHWRUvcQ631Q3mzyHSxL9G4zUKT4%3d&risl=&pid=ImgRaw&r=0,width=700,height=400)"
      ]
    },
    {
      "cell_type": "markdown",
      "metadata": {
        "id": "zBarC8WVQZG7"
      },
      "source": [
        "## Task 2 - Obtain the logical conditions for the features \"Blue\", \"Wi_Fi\", \"Tch_Scr\" and \"Ext_Mem\""
      ]
    },
    {
      "cell_type": "code",
      "execution_count": 11,
      "metadata": {
        "id": "RAV76P19N86G"
      },
      "outputs": [
        {
          "name": "stdout",
          "output_type": "stream",
          "text": [
            "Feature names in the DataFrame:\n",
            "['PID', 'Blue', 'Wi_Fi', 'Tch_Scr', 'Ext_Mem', 'Px_h', 'Px_w', 'Scr_h', 'Scr_w', 'PC', 'FC', 'Int_Mem', 'Bty_Pwr', 'RAM', 'Depth', 'Weight', 'Price']\n"
          ]
        }
      ],
      "source": [
        "# Get the feature names (column names) of the DataFrame\n",
        "feature_names = df.columns.tolist()\n",
        "print(\"Feature names in the DataFrame:\")\n",
        "print(feature_names)\n",
        "\n"
      ]
    },
    {
      "cell_type": "code",
      "execution_count": 12,
      "metadata": {
        "id": "4qnHqu_vN86H"
      },
      "outputs": [
        {
          "name": "stdout",
          "output_type": "stream",
          "text": [
            "\n",
            "Value counts for 'Blue':\n",
            "Blue\n",
            "yes    27\n",
            "no     23\n",
            "Name: count, dtype: int64\n",
            "\n",
            "Value counts for 'Wi_Fi':\n",
            "Wi_Fi\n",
            "yes    42\n",
            "no      8\n",
            "Name: count, dtype: int64\n",
            "\n",
            "Value counts for 'Tch_Scr':\n",
            "Tch_Scr\n",
            "yes    45\n",
            "no      5\n",
            "Name: count, dtype: int64\n",
            "\n",
            "Value counts for 'Ext_Mem':\n",
            "Ext_Mem\n",
            "yes    38\n",
            "no     12\n",
            "Name: count, dtype: int64\n"
          ]
        }
      ],
      "source": [
        "# Analyze binary features: Blue, Wi_Fi, Tch_Scr, Ext_Mem\n",
        "binary_features = [\"Blue\", \"Wi_Fi\", \"Tch_Scr\", \"Ext_Mem\"]\n",
        "\n",
        "for feature in binary_features:\n",
        "    print(f\"\\nValue counts for '{feature}':\")\n",
        "    print(df[feature].value_counts())\n"
      ]
    },
    {
      "cell_type": "code",
      "execution_count": null,
      "metadata": {},
      "outputs": [
        {
          "ename": "NameError",
          "evalue": "name 'sns' is not defined",
          "output_type": "error",
          "traceback": [
            "\u001b[31m---------------------------------------------------------------------------\u001b[39m",
            "\u001b[31mNameError\u001b[39m                                 Traceback (most recent call last)",
            "\u001b[36mCell\u001b[39m\u001b[36m \u001b[39m\u001b[32mIn[13]\u001b[39m\u001b[32m, line 6\u001b[39m\n\u001b[32m      4\u001b[39m \u001b[38;5;28;01mfor\u001b[39;00m i, feature \u001b[38;5;129;01min\u001b[39;00m \u001b[38;5;28menumerate\u001b[39m(binary_features):\n\u001b[32m      5\u001b[39m     plt.subplot(\u001b[32m2\u001b[39m, \u001b[32m2\u001b[39m, i+\u001b[32m1\u001b[39m)\n\u001b[32m----> \u001b[39m\u001b[32m6\u001b[39m     \u001b[43msns\u001b[49m.countplot(data=df, x=feature, palette=\u001b[33m\"\u001b[39m\u001b[33mSet2\u001b[39m\u001b[33m\"\u001b[39m)\n\u001b[32m      7\u001b[39m     plt.title(\u001b[33mf\u001b[39m\u001b[33m\"\u001b[39m\u001b[33mDistribution of \u001b[39m\u001b[38;5;132;01m{\u001b[39;00mfeature\u001b[38;5;132;01m}\u001b[39;00m\u001b[33m\"\u001b[39m)\n\u001b[32m      8\u001b[39m     plt.xticks([\u001b[32m0\u001b[39m, \u001b[32m1\u001b[39m], [\u001b[33m'\u001b[39m\u001b[33mNo\u001b[39m\u001b[33m'\u001b[39m, \u001b[33m'\u001b[39m\u001b[33mYes\u001b[39m\u001b[33m'\u001b[39m])\n",
            "\u001b[31mNameError\u001b[39m: name 'sns' is not defined"
          ]
        },
        {
          "data": {
            "image/png": "[encoded data removed]",
            "text/plain": [
              "<Figure size 1200x600 with 1 Axes>"
            ]
          },
          "metadata": {},
          "output_type": "display_data"
        }
      ],
      "source": [
        "# Plotting the distribution of binary features\n",
        "plt.figure(figsize=(12, 6))\n",
        "\n",
        "for i, feature in enumerate(binary_features):\n",
        "    plt.subplot(2, 2, i+1)\n",
        "    sns.countplot(data=df, x=feature, palette=\"Set2\")\n",
        "    plt.title(f\"Distribution of {feature}\")\n",
        "    plt.xticks([0, 1], ['No', 'Yes'])\n",
        "    plt.xlabel(\"\")\n",
        "    plt.ylabel(\"Count\")\n",
        "\n",
        "plt.tight_layout()\n",
        "plt.show()\n"
      ]
    },
    {
      "cell_type": "code",
      "execution_count": 16,
      "metadata": {
        "id": "8N-jff5hN86I"
      },
      "outputs": [],
      "source": [
        "# The children want phones that have the following: Bluetooth, WiFi, touch screen and external memory support\n",
        "# Create a logical condition for this situation and store the logical values as \"con1\"\n",
        "# Convert string columns to boolean (if \"Yes\" represents True)\n",
        "df_bool = df.copy()\n",
        "df_bool['Blue'] = df['Blue'] == 'Yes'\n",
        "df_bool['Wi_Fi'] = df['Wi_Fi'] == 'Yes'\n",
        "df_bool['Tch_Scr'] = df['Tch_Scr'] == 'Yes'\n",
        "df_bool['Ext_Mem'] = df['Ext_Mem'] == 'Yes'\n",
        "\n",
        "# Then create the condition\n",
        "con1 = df_bool['Blue'] & df_bool['Wi_Fi'] & df_bool['Tch_Scr'] & df_bool['Ext_Mem']"
      ]
    },
    {
      "cell_type": "code",
      "execution_count": 17,
      "metadata": {},
      "outputs": [
        {
          "name": "stdout",
          "output_type": "stream",
          "text": [
            "Blue unique values: ['yes' 'no']\n",
            "Wi_Fi unique values: ['yes' 'no']\n",
            "Tch_Scr unique values: ['no' 'yes']\n",
            "Ext_Mem unique values: ['no' 'yes']\n"
          ]
        }
      ],
      "source": [
        "# Check the unique values in each column\n",
        "print(\"Blue unique values:\", df['Blue'].unique())\n",
        "print(\"Wi_Fi unique values:\", df['Wi_Fi'].unique())\n",
        "print(\"Tch_Scr unique values:\", df['Tch_Scr'].unique())\n",
        "print(\"Ext_Mem unique values:\", df['Ext_Mem'].unique())"
      ]
    },
    {
      "cell_type": "code",
      "execution_count": 18,
      "metadata": {},
      "outputs": [
        {
          "name": "stdout",
          "output_type": "stream",
          "text": [
            "Number of phones meeting all criteria: 0\n"
          ]
        },
        {
          "data": {
            "text/html": [
              "<div>\n",
              "<style scoped>\n",
              "    .dataframe tbody tr th:only-of-type {\n",
              "        vertical-align: middle;\n",
              "    }\n",
              "\n",
              "    .dataframe tbody tr th {\n",
              "        vertical-align: top;\n",
              "    }\n",
              "\n",
              "    .dataframe thead th {\n",
              "        text-align: right;\n",
              "    }\n",
              "</style>\n",
              "<table border=\"1\" class=\"dataframe\">\n",
              "  <thead>\n",
              "    <tr style=\"text-align: right;\">\n",
              "      <th></th>\n",
              "      <th>PID</th>\n",
              "      <th>Blue</th>\n",
              "      <th>Wi_Fi</th>\n",
              "      <th>Tch_Scr</th>\n",
              "      <th>Ext_Mem</th>\n",
              "      <th>Px_h</th>\n",
              "      <th>Px_w</th>\n",
              "      <th>Scr_h</th>\n",
              "      <th>Scr_w</th>\n",
              "      <th>PC</th>\n",
              "      <th>FC</th>\n",
              "      <th>Int_Mem</th>\n",
              "      <th>Bty_Pwr</th>\n",
              "      <th>RAM</th>\n",
              "      <th>Depth</th>\n",
              "      <th>Weight</th>\n",
              "      <th>Price</th>\n",
              "    </tr>\n",
              "  </thead>\n",
              "  <tbody>\n",
              "  </tbody>\n",
              "</table>\n",
              "</div>"
            ],
            "text/plain": [
              "Empty DataFrame\n",
              "Columns: [PID, Blue, Wi_Fi, Tch_Scr, Ext_Mem, Px_h, Px_w, Scr_h, Scr_w, PC, FC, Int_Mem, Bty_Pwr, RAM, Depth, Weight, Price]\n",
              "Index: []"
            ]
          },
          "execution_count": 18,
          "metadata": {},
          "output_type": "execute_result"
        }
      ],
      "source": [
        "# Filter the dataset using the condition\n",
        "filtered_phones = df[con1]\n",
        "\n",
        "# View the filtered dataset\n",
        "print(f\"Number of phones meeting all criteria: {len(filtered_phones)}\")\n",
        "filtered_phones.head()"
      ]
    },
    {
      "cell_type": "markdown",
      "metadata": {
        "id": "KilesitnQjMF"
      },
      "source": [
        "Observations:\n",
        "\n",
        "The features \"Blue\", \"Wi_Fi\", \"Tch_Scr\" and \"Ext_Mem\" are binary in nature.\n",
        "\n",
        "The children want all these features, so the logical condition \"con1\" has been obtained accordingly."
      ]
    },
    {
      "cell_type": "markdown",
      "metadata": {
        "id": "n8qZScOZQsj3"
      },
      "source": [
        "## Task 3 - Obtain the logical conditions for the features \"Px_h\" and \"Px_w\""
      ]
    },
    {
      "cell_type": "code",
      "execution_count": 19,
      "metadata": {
        "id": "UgpsX9ZYN86M"
      },
      "outputs": [
        {
          "name": "stdout",
          "output_type": "stream",
          "text": [
            "Feature names: Index(['PID', 'Blue', 'Wi_Fi', 'Tch_Scr', 'Ext_Mem', 'Px_h', 'Px_w', 'Scr_h',\n",
            "       'Scr_w', 'PC', 'FC', 'Int_Mem', 'Bty_Pwr', 'RAM', 'Depth', 'Weight',\n",
            "       'Price'],\n",
            "      dtype='object')\n",
            "\n",
            "Statistics for Px_h:\n",
            "count      50.000000\n",
            "mean     2319.400000\n",
            "std       598.400623\n",
            "min       780.000000\n",
            "25%      2080.000000\n",
            "50%      2580.000000\n",
            "75%      2580.000000\n",
            "max      2880.000000\n",
            "Name: Px_h, dtype: float64\n",
            "\n",
            "Statistics for Px_w:\n",
            "count      50.000000\n",
            "mean     1833.200000\n",
            "std       469.713069\n",
            "min       460.000000\n",
            "25%      1775.000000\n",
            "50%      1980.000000\n",
            "75%      2120.000000\n",
            "max      2520.000000\n",
            "Name: Px_w, dtype: float64\n",
            "\n",
            "Phones with high vertical resolution: 9\n",
            "Phones with high horizontal resolution: 17\n",
            "Phones with high resolution in both dimensions: 9\n",
            "Phones with ~16:9 aspect ratio: 0\n"
          ]
        }
      ],
      "source": [
        "# Get the feature names of the dataframe\n",
        "# First, get the feature names of the dataframe to confirm\n",
        "feature_names = df.columns\n",
        "print(\"Feature names:\", feature_names)\n",
        "\n",
        "# Basic statistics for Px_h and Px_w to understand their distributions\n",
        "print(\"\\nStatistics for Px_h:\")\n",
        "print(df['Px_h'].describe())\n",
        "\n",
        "print(\"\\nStatistics for Px_w:\")\n",
        "print(df['Px_w'].describe())\n",
        "\n",
        "# Example logical conditions:\n",
        "\n",
        "# 1. High vertical resolution (e.g., greater than median or 75th percentile)\n",
        "high_vertical_res = df['Px_h'] > df['Px_h'].median()\n",
        "print(f\"\\nPhones with high vertical resolution: {high_vertical_res.sum()}\")\n",
        "\n",
        "# 2. High horizontal resolution\n",
        "high_horizontal_res = df['Px_w'] > df['Px_w'].median()\n",
        "print(f\"Phones with high horizontal resolution: {high_horizontal_res.sum()}\")\n",
        "\n",
        "# 3. High resolution in both dimensions (high pixel density)\n",
        "high_resolution = high_vertical_res & high_horizontal_res\n",
        "print(f\"Phones with high resolution in both dimensions: {high_resolution.sum()}\")\n",
        "\n",
        "# 4. Specific aspect ratio (e.g., 16:9)\n",
        "# Calculate aspect ratio\n",
        "df['aspect_ratio'] = df['Px_w'] / df['Px_h']\n",
        "aspect_ratio_16_9 = (df['aspect_ratio'] > 1.7) & (df['aspect_ratio'] < 1.8)  # approximately 16:9\n",
        "print(f\"Phones with ~16:9 aspect ratio: {aspect_ratio_16_9.sum()}\")\n",
        "\n"
      ]
    },
    {
      "cell_type": "code",
      "execution_count": 21,
      "metadata": {
        "id": "HvY0q-JeN86N"
      },
      "outputs": [
        {
          "name": "stdout",
          "output_type": "stream",
          "text": [
            "Statistics for vertical pixels (Px_h):\n",
            "count      50.000000\n",
            "mean     2319.400000\n",
            "std       598.400623\n",
            "min       780.000000\n",
            "25%      2080.000000\n",
            "50%      2580.000000\n",
            "75%      2580.000000\n",
            "max      2880.000000\n",
            "Name: Px_h, dtype: float64\n",
            "\n",
            "Statistics for horizontal pixels (Px_w):\n",
            "count      50.000000\n",
            "mean     1833.200000\n",
            "std       469.713069\n",
            "min       460.000000\n",
            "25%      1775.000000\n",
            "50%      1980.000000\n",
            "75%      2120.000000\n",
            "max      2520.000000\n",
            "Name: Px_w, dtype: float64\n",
            "\n",
            "Missing values in Px_h: 0\n",
            "Missing values in Px_w: 0\n"
          ]
        },
        {
          "data": {
            "image/png": "[encoded data removed]",
            "text/plain": [
              "<Figure size 1000x600 with 1 Axes>"
            ]
          },
          "metadata": {},
          "output_type": "display_data"
        },
        {
          "name": "stdout",
          "output_type": "stream",
          "text": [
            "\n",
            "Statistics for total pixels (resolution):\n",
            "count    5.000000e+01\n",
            "mean     4.517184e+06\n",
            "std      1.800913e+06\n",
            "min      3.588000e+05\n",
            "25%      3.696500e+06\n",
            "50%      5.108400e+06\n",
            "75%      5.469600e+06\n",
            "max      7.257600e+06\n",
            "Name: total_pixels, dtype: float64\n",
            "\n",
            "Number of HD or better resolution phones: 43\n",
            "Percentage of HD or better phones: 86.00%\n",
            "\n",
            "Phones with standard widescreen aspect ratio: 0\n",
            "Percentage with standard aspect ratio: 0.00%\n"
          ]
        }
      ],
      "source": [
        "# Let's tackle these features: \"Px_h\", \"Px_w\"\n",
        "# Get basic statistics for Px_h and Px_w\n",
        "print(\"Statistics for vertical pixels (Px_h):\")\n",
        "print(df['Px_h'].describe())\n",
        "\n",
        "print(\"\\nStatistics for horizontal pixels (Px_w):\")\n",
        "print(df['Px_w'].describe())\n",
        "\n",
        "# Check for missing values\n",
        "print(\"\\nMissing values in Px_h:\", df['Px_h'].isna().sum())\n",
        "print(\"Missing values in Px_w:\", df['Px_w'].isna().sum())\n",
        "\n",
        "# Create a scatter plot to visualize the relationship\n",
        "import matplotlib.pyplot as plt\n",
        "\n",
        "plt.figure(figsize=(10, 6))\n",
        "plt.scatter(df['Px_w'], df['Px_h'], alpha=0.7)\n",
        "plt.title('Phone Resolution: Width vs Height in Pixels')\n",
        "plt.xlabel('Horizontal Pixels (Px_w)')\n",
        "plt.ylabel('Vertical Pixels (Px_h)')\n",
        "plt.grid(True, linestyle='--', alpha=0.7)\n",
        "plt.show()\n",
        "\n",
        "# Calculate total pixels (resolution)\n",
        "df['total_pixels'] = df['Px_h'] * df['Px_w']\n",
        "print(\"\\nStatistics for total pixels (resolution):\")\n",
        "print(df['total_pixels'].describe())\n",
        "\n",
        "# Create logical conditions for high-resolution phones (e.g., HD or better)\n",
        "# HD resolution is typically 1280x720 pixels or higher\n",
        "hd_horizontal = df['Px_w'] >= 1280\n",
        "hd_vertical = df['Px_h'] >= 720\n",
        "is_hd_or_better = hd_horizontal & hd_vertical\n",
        "print(f\"\\nNumber of HD or better resolution phones: {is_hd_or_better.sum()}\")\n",
        "print(f\"Percentage of HD or better phones: {is_hd_or_better.mean()*100:.2f}%\")\n",
        "\n",
        "# Create logical conditions for aspect ratio\n",
        "df['aspect_ratio'] = df['Px_w'] / df['Px_h']\n",
        "standard_aspect = (df['aspect_ratio'] >= 1.6) & (df['aspect_ratio'] <= 1.8)  # Approximately 16:9\n",
        "print(f\"\\nPhones with standard widescreen aspect ratio: {standard_aspect.sum()}\")\n",
        "print(f\"Percentage with standard aspect ratio: {standard_aspect.mean()*100:.2f}%\")"
      ]
    },
    {
      "cell_type": "code",
      "execution_count": 22,
      "metadata": {
        "id": "9g8VvPLiN86O"
      },
      "outputs": [
        {
          "name": "stdout",
          "output_type": "stream",
          "text": [
            "   Px_h  Px_w       Px\n",
            "0   780   460   358800\n",
            "1   780   560   436800\n",
            "2   840   720   604800\n",
            "3  1280  1120  1433600\n",
            "4  1280  1080  1382400\n",
            "\n",
            "Statistics for total screen resolution (Px):\n",
            "count    5.000000e+01\n",
            "mean     4.517184e+06\n",
            "std      1.800913e+06\n",
            "min      3.588000e+05\n",
            "25%      3.696500e+06\n",
            "50%      5.108400e+06\n",
            "75%      5.469600e+06\n",
            "max      7.257600e+06\n",
            "Name: Px, dtype: float64\n"
          ]
        }
      ],
      "source": [
        "# Create a new feature called \"Px\" which stores the total resolution of the screen\n",
        "\n",
        "\n",
        "df['Px'] = df['Px_h'] * df['Px_w']\n",
        "\n",
        "# Display the first few rows to verify\n",
        "print(df[['Px_h', 'Px_w', 'Px']].head())\n",
        "\n",
        "# Get basic statistics of the new feature\n",
        "print(\"\\nStatistics for total screen resolution (Px):\")\n",
        "print(df['Px'].describe())"
      ]
    },
    {
      "cell_type": "code",
      "execution_count": 23,
      "metadata": {
        "id": "nbYsIHpjN86P"
      },
      "outputs": [
        {
          "data": {
            "image/png": "[encoded data removed]",
            "text/plain": [
              "<Figure size 1000x600 with 1 Axes>"
            ]
          },
          "metadata": {},
          "output_type": "display_data"
        },
        {
          "name": "stdout",
          "output_type": "stream",
          "text": [
            "Mean of Px: 4517184.00\n",
            "Median of Px: 5108400.00\n"
          ]
        }
      ],
      "source": [
        "# Create a histogram of the \"Px\" feature and also show the mean and the median\n",
        "\n",
        "\n",
        "import matplotlib.pyplot as plt\n",
        "import numpy as np\n",
        "\n",
        "# Calculate mean and median\n",
        "px_mean = df['Px'].mean()\n",
        "px_median = df['Px'].median()\n",
        "\n",
        "# Create the histogram\n",
        "plt.figure(figsize=(10, 6))\n",
        "plt.hist(df['Px'], bins=20, color='skyblue', edgecolor='black', alpha=0.7)\n",
        "\n",
        "# Add vertical lines for mean and median\n",
        "plt.axvline(px_mean, color='red', linestyle='--', linewidth=2, label=f'Mean: {px_mean:.0f}')\n",
        "plt.axvline(px_median, color='green', linestyle='-', linewidth=2, label=f'Median: {px_median:.0f}')\n",
        "\n",
        "# Add labels and title\n",
        "plt.xlabel('Total Number of Pixels (Px)')\n",
        "plt.ylabel('Frequency')\n",
        "plt.title('Distribution of Screen Resolution (Total Pixels)')\n",
        "plt.legend()\n",
        "plt.grid(True, linestyle='--', alpha=0.7)\n",
        "\n",
        "# Display the plot\n",
        "plt.show()\n",
        "\n",
        "# Print the exact values\n",
        "print(f\"Mean of Px: {px_mean:.2f}\")\n",
        "print(f\"Median of Px: {px_median:.2f}\")"
      ]
    },
    {
      "cell_type": "code",
      "execution_count": 24,
      "metadata": {
        "id": "SxaYgagyN86Q"
      },
      "outputs": [
        {
          "name": "stdout",
          "output_type": "stream",
          "text": [
            "Median resolution: 5108400 pixels\n",
            "Number of phones with good screen resolution: 30\n",
            "Percentage of phones with good screen resolution: 60.00%\n"
          ]
        }
      ],
      "source": [
        "# The children want phones that have good screen resolutions\n",
        "# Consider the phones that have screen resolutions greater than or equal to the median value in the data set\n",
        "# Create a logical condition for this situation and store the logical values as \"con2\"\n",
        "# Calculate the median of the 'Px' feature\n",
        "median_resolution = df['Px'].median()\n",
        "\n",
        "# Create logical condition for phones with resolution >= median\n",
        "con2 = df['Px'] >= median_resolution\n",
        "\n",
        "# Check how many phones satisfy this condition\n",
        "phones_with_good_resolution = con2.sum()\n",
        "total_phones = len(df)\n",
        "percentage = (phones_with_good_resolution / total_phones) * 100\n",
        "\n",
        "print(f\"Median resolution: {median_resolution:.0f} pixels\")\n",
        "print(f\"Number of phones with good screen resolution: {phones_with_good_resolution}\")\n",
        "print(f\"Percentage of phones with good screen resolution: {percentage:.2f}%\")\n",
        "\n",
        "\n"
      ]
    },
    {
      "cell_type": "markdown",
      "metadata": {
        "id": "M-DC9VY2RBZQ"
      },
      "source": [
        "Observations:\n",
        "\n",
        "The features \"Px_h\" and \"Px_w\" are respectively the number of pixels in the phone screen in the vertical and horizontal axes.\n",
        "\n",
        "We created a new feature called \"Px\" which is the product of the features \"Px_h\" and \"Px_w\".\n",
        "\n",
        "The median has been selected as a threshold in this case.\n",
        "\n",
        "In case it is too strict, we can choose the mean as a threshold."
      ]
    },
    {
      "cell_type": "markdown",
      "metadata": {
        "id": "ih3ev8-0RJg5"
      },
      "source": [
        "# Task 4 - Obtain the logical conditions for the features \"Scr_h\" and \"Scr_w\""
      ]
    },
    {
      "cell_type": "code",
      "execution_count": null,
      "metadata": {
        "id": "EsEcEKKTN86T"
      },
      "outputs": [],
      "source": [
        "# Let's tackle these features: \"Scr_h\", \"Scr_w\""
      ]
    },
    {
      "cell_type": "code",
      "execution_count": 25,
      "metadata": {
        "id": "qTOcx3FCN86U"
      },
      "outputs": [
        {
          "name": "stdout",
          "output_type": "stream",
          "text": [
            "   Scr_h  Scr_w     Scr_d\n",
            "0      3      1  3.162278\n",
            "1      2      1  2.236068\n",
            "2      2      1  2.236068\n",
            "3      5      3  5.830952\n",
            "4      4      3  5.000000\n",
            "\n",
            "Statistics for screen diagonal (Scr_d):\n",
            "count    50.000000\n",
            "mean      7.993798\n",
            "std       2.721643\n",
            "min       2.236068\n",
            "25%       5.830952\n",
            "50%       7.810250\n",
            "75%      10.000000\n",
            "max      12.806248\n",
            "Name: Scr_d, dtype: float64\n"
          ]
        }
      ],
      "source": [
        "# Create a new feature called \"Scr_d\" which stores the length of the diagonal of the screen of the phone\n",
        "\n",
        "# Import necessary library for square root\n",
        "import numpy as np\n",
        "\n",
        "# Create the new feature 'Scr_d' to store the diagonal length of the screen\n",
        "df['Scr_d'] = np.sqrt(df['Scr_h']**2 + df['Scr_w']**2)\n",
        "\n",
        "# Display the first few rows to verify\n",
        "print(df[['Scr_h', 'Scr_w', 'Scr_d']].head())\n",
        "\n",
        "# Get basic statistics of the new feature\n",
        "print(\"\\nStatistics for screen diagonal (Scr_d):\")\n",
        "print(df['Scr_d'].describe())\n"
      ]
    },
    {
      "cell_type": "code",
      "execution_count": 26,
      "metadata": {},
      "outputs": [
        {
          "name": "stdout",
          "output_type": "stream",
          "text": [
            "\n",
            "Statistics for screen diagonal in inches:\n",
            "count    50.000000\n",
            "mean      3.147165\n",
            "std       1.071513\n",
            "min       0.880342\n",
            "25%       2.295650\n",
            "50%       3.074901\n",
            "75%       3.937008\n",
            "max       5.041830\n",
            "Name: Scr_d_inches, dtype: float64\n"
          ]
        }
      ],
      "source": [
        "# Convert diagonal from cm to inches (1 inch = 2.54 cm)\n",
        "df['Scr_d_inches'] = df['Scr_d'] / 2.54\n",
        "\n",
        "print(\"\\nStatistics for screen diagonal in inches:\")\n",
        "print(df['Scr_d_inches'].describe())\n"
      ]
    },
    {
      "cell_type": "code",
      "execution_count": 27,
      "metadata": {
        "id": "83gzdEN7N86U"
      },
      "outputs": [
        {
          "data": {
            "image/png": "[encoded data removed]",
            "text/plain": [
              "<Figure size 1000x600 with 1 Axes>"
            ]
          },
          "metadata": {},
          "output_type": "display_data"
        },
        {
          "name": "stdout",
          "output_type": "stream",
          "text": [
            "First quartile (Q1): 5.83 cm\n",
            "Second quartile (Q2/Median): 7.81 cm\n",
            "Third quartile (Q3): 10.00 cm\n",
            "Interquartile range (IQR): 4.17 cm\n"
          ]
        }
      ],
      "source": [
        "# Create a histogram of the \"Scr_d\" feature and also show the quartiles\n",
        "\n",
        "import matplotlib.pyplot as plt\n",
        "import numpy as np\n",
        "\n",
        "# Calculate quartiles\n",
        "q1 = df['Scr_d'].quantile(0.25)\n",
        "q2 = df['Scr_d'].quantile(0.50)  # Median\n",
        "q3 = df['Scr_d'].quantile(0.75)\n",
        "\n",
        "# Create the histogram\n",
        "plt.figure(figsize=(10, 6))\n",
        "plt.hist(df['Scr_d'], bins=20, color='lightgreen', edgecolor='black', alpha=0.7)\n",
        "\n",
        "# Add vertical lines for quartiles\n",
        "plt.axvline(q1, color='blue', linestyle='--', linewidth=2, label=f'Q1: {q1:.2f} cm')\n",
        "plt.axvline(q2, color='red', linestyle='--', linewidth=2, label=f'Median: {q2:.2f} cm')\n",
        "plt.axvline(q3, color='purple', linestyle='--', linewidth=2, label=f'Q3: {q3:.2f} cm')\n",
        "\n",
        "# Add labels and title\n",
        "plt.xlabel('Screen Diagonal (Scr_d) in cm')\n",
        "plt.ylabel('Frequency')\n",
        "plt.title('Distribution of Screen Diagonal Lengths')\n",
        "plt.legend()\n",
        "plt.grid(True, linestyle='--', alpha=0.7)\n",
        "\n",
        "# Display the plot\n",
        "plt.show()\n",
        "\n",
        "# Print the exact quartile values\n",
        "print(f\"First quartile (Q1): {q1:.2f} cm\")\n",
        "print(f\"Second quartile (Q2/Median): {q2:.2f} cm\")\n",
        "print(f\"Third quartile (Q3): {q3:.2f} cm\")\n",
        "print(f\"Interquartile range (IQR): {q3-q1:.2f} cm\")"
      ]
    },
    {
      "cell_type": "code",
      "execution_count": 28,
      "metadata": {
        "id": "aEvL_TPSN86V"
      },
      "outputs": [
        {
          "name": "stdout",
          "output_type": "stream",
          "text": [
            "Upper quartile of screen diagonal: 10.00 cm\n",
            "Number of phones with very good screen size: 24\n",
            "Percentage of phones with very good screen size: 48.00%\n"
          ]
        }
      ],
      "source": [
        "# The children want phones that have very good screen sizes\n",
        "# Consider the phones that have screen sizes greater than or equal to the upper quartile value in the data set\n",
        "# Create a logical condition for this situation and store the logical values as \"con3\"\n",
        "\n",
        "\n",
        "# Calculate the upper quartile (Q3) of the 'Scr_d' feature\n",
        "upper_quartile = df['Scr_d'].quantile(0.75)\n",
        "\n",
        "# Create logical condition for phones with screen size >= upper quartile\n",
        "con3 = df['Scr_d'] >= upper_quartile\n",
        "\n",
        "# Check how many phones satisfy this condition\n",
        "phones_with_large_screen = con3.sum()\n",
        "total_phones = len(df)\n",
        "percentage = (phones_with_large_screen / total_phones) * 100\n",
        "\n",
        "print(f\"Upper quartile of screen diagonal: {upper_quartile:.2f} cm\")\n",
        "print(f\"Number of phones with very good screen size: {phones_with_large_screen}\")\n",
        "print(f\"Percentage of phones with very good screen size: {percentage:.2f}%\")"
      ]
    },
    {
      "cell_type": "markdown",
      "metadata": {
        "id": "BKDitmp9RZDe"
      },
      "source": [
        "Observations:\n",
        "\n",
        "The features \"Scr_h\" and \"Scr_w\" are respectively the height and the width of the phone screen.\n",
        "\n",
        "We created a new feature called \"Scr_d\" which is essentially the length of the screen diagonal.\n",
        "\n",
        "The upper quartile has been selected as a threshold in this case as the children were very particular on this point.\n",
        "\n",
        "In case it is too strict, we can choose the mean or the median as a threshold."
      ]
    },
    {
      "cell_type": "markdown",
      "metadata": {
        "id": "21dZEsZRRikD"
      },
      "source": [
        "# Task 5 - Obtain the logical conditions for the features \"PC\" and \"FC\""
      ]
    },
    {
      "cell_type": "code",
      "execution_count": null,
      "metadata": {
        "id": "lCQR8DBRN86Y"
      },
      "outputs": [],
      "source": [
        "# Let's tackle these features: \"PC\", \"FC\""
      ]
    },
    {
      "cell_type": "code",
      "execution_count": 29,
      "metadata": {
        "id": "KtH-XWmqN86Z"
      },
      "outputs": [
        {
          "data": {
            "image/png": "[encoded data removed]",
            "text/plain": [
              "<Figure size 1000x600 with 1 Axes>"
            ]
          },
          "metadata": {},
          "output_type": "display_data"
        },
        {
          "name": "stdout",
          "output_type": "stream",
          "text": [
            "Mean of Primary Camera Resolution: 42.16 MP\n",
            "Median of Primary Camera Resolution: 40.00 MP\n"
          ]
        }
      ],
      "source": [
        "# Create a histogram of the \"PC\" feature and also show the mean and the median\n",
        "\n",
        "import pandas as pd\n",
        "import matplotlib.pyplot as plt\n",
        "import numpy as np\n",
        "\n",
        "# Assuming your dataframe is already loaded as 'df'\n",
        "# If not, you need to load it first\n",
        "\n",
        "# Calculate mean and median of PC (Primary Camera)\n",
        "pc_mean = df['PC'].mean()\n",
        "pc_median = df['PC'].median()\n",
        "\n",
        "# Create the histogram\n",
        "plt.figure(figsize=(10, 6))\n",
        "n, bins, patches = plt.hist(df['PC'], bins=10, edgecolor='black', alpha=0.7)\n",
        "\n",
        "# Add vertical lines for mean and median\n",
        "plt.axvline(pc_mean, color='red', linestyle='-', linewidth=2, label=f'Mean: {pc_mean:.2f}')\n",
        "plt.axvline(pc_median, color='green', linestyle='--', linewidth=2, label=f'Median: {pc_median:.2f}')\n",
        "\n",
        "# Add labels and title\n",
        "plt.xlabel('Primary Camera Resolution (MP)')\n",
        "plt.ylabel('Frequency')\n",
        "plt.title('Histogram of Primary Camera Resolution')\n",
        "plt.legend()\n",
        "plt.grid(axis='y', alpha=0.75)\n",
        "\n",
        "# Show the plot\n",
        "plt.tight_layout()\n",
        "plt.show()\n",
        "\n",
        "print(f\"Mean of Primary Camera Resolution: {pc_mean:.2f} MP\")\n",
        "print(f\"Median of Primary Camera Resolution: {pc_median:.2f} MP\")\n"
      ]
    },
    {
      "cell_type": "code",
      "execution_count": 30,
      "metadata": {
        "id": "vMp3OWR0N86a"
      },
      "outputs": [
        {
          "data": {
            "image/png": "[encoded data removed]",
            "text/plain": [
              "<Figure size 1000x600 with 1 Axes>"
            ]
          },
          "metadata": {},
          "output_type": "display_data"
        },
        {
          "name": "stdout",
          "output_type": "stream",
          "text": [
            "Mean of Front Camera Resolution: 20.76 MP\n",
            "Median of Front Camera Resolution: 16.00 MP\n"
          ]
        }
      ],
      "source": [
        "# Create a histogram of the \"FC\" feature and also show the mean and the median\n",
        "\n",
        "import pandas as pd\n",
        "import matplotlib.pyplot as plt\n",
        "import numpy as np\n",
        "\n",
        "# Calculate mean and median of FC (Front Camera)\n",
        "fc_mean = df['FC'].mean()\n",
        "fc_median = df['FC'].median()\n",
        "\n",
        "# Create the histogram\n",
        "plt.figure(figsize=(10, 6))\n",
        "n, bins, patches = plt.hist(df['FC'], bins=10, edgecolor='black', alpha=0.7)\n",
        "\n",
        "# Add vertical lines for mean and median\n",
        "plt.axvline(fc_mean, color='red', linestyle='-', linewidth=2, label=f'Mean: {fc_mean:.2f}')\n",
        "plt.axvline(fc_median, color='green', linestyle='--', linewidth=2, label=f'Median: {fc_median:.2f}')\n",
        "\n",
        "# Add labels and title\n",
        "plt.xlabel('Front Camera Resolution (MP)')\n",
        "plt.ylabel('Frequency')\n",
        "plt.title('Histogram of Front Camera Resolution')\n",
        "plt.legend()\n",
        "plt.grid(axis='y', alpha=0.75)\n",
        "\n",
        "# Show the plot\n",
        "plt.tight_layout()\n",
        "plt.show()\n",
        "\n",
        "print(f\"Mean of Front Camera Resolution: {fc_mean:.2f} MP\")\n",
        "print(f\"Median of Front Camera Resolution: {fc_median:.2f} MP\")\n"
      ]
    },
    {
      "cell_type": "code",
      "execution_count": 31,
      "metadata": {
        "id": "uwOY8IGoN86a"
      },
      "outputs": [
        {
          "name": "stdout",
          "output_type": "stream",
          "text": [
            "Mean of Primary Camera Resolution: 42.16 MP\n",
            "Mean of Front Camera Resolution: 20.76 MP\n",
            "Number of phones meeting the condition: 22\n",
            "Percentage of phones meeting the condition: 44.00%\n",
            "\n",
            "Sample of phones meeting the condition:\n",
            "        PID Blue Wi_Fi Tch_Scr Ext_Mem  Px_h  Px_w  Scr_h  Scr_w  PC  ...  \\\n",
            "9   ENG897N  yes   yes     yes     yes  2580  1980      5      3  64  ...   \n",
            "11  ELS333L  yes   yes     yes     yes  2580  1920      8      6  64  ...   \n",
            "12  ETT987D   no   yes     yes     yes  2580  1980      6      5  64  ...   \n",
            "16  PDF768G   no    no     yes     yes  2580  1980      8      6  64  ...   \n",
            "21  QWR222Y   no   yes     yes     yes  2580  1980      8      6  64  ...   \n",
            "\n",
            "    Bty_Pwr  RAM  Depth  Weight  Price  aspect_ratio  total_pixels       Px  \\\n",
            "9      4380    4      3     150  23456      0.767442       5108400  5108400   \n",
            "11     4500    8      4     150  43980      0.744186       4953600  4953600   \n",
            "12     4500    6      4     300  28700      0.767442       5108400  5108400   \n",
            "16     3300    4      3     160  22650      0.767442       5108400  5108400   \n",
            "21     4400    4      3     160  21350      0.767442       5108400  5108400   \n",
            "\n",
            "        Scr_d  Scr_d_inches  \n",
            "9    5.830952      2.295650  \n",
            "11  10.000000      3.937008  \n",
            "12   7.810250      3.074901  \n",
            "16  10.000000      3.937008  \n",
            "21  10.000000      3.937008  \n",
            "\n",
            "[5 rows x 22 columns]\n"
          ]
        }
      ],
      "source": [
        "# The children want phones that have good primary and front camera resolutions\n",
        "# Consider the phones that have primary and front camera resolutions greater than or equal to their respective mean values\n",
        "# Create a logical condition for this situation and store the logical values as \"con4\"\n",
        "\n",
        "\n",
        "# Calculate mean values for PC and FC\n",
        "pc_mean = df['PC'].mean()\n",
        "fc_mean = df['FC'].mean()\n",
        "\n",
        "# Print the mean values for reference\n",
        "print(f\"Mean of Primary Camera Resolution: {pc_mean:.2f} MP\")\n",
        "print(f\"Mean of Front Camera Resolution: {fc_mean:.2f} MP\")\n",
        "\n",
        "# Create logical condition for phones with both PC and FC >= their respective means\n",
        "con4 = (df['PC'] >= pc_mean) & (df['FC'] >= fc_mean)\n",
        "\n",
        "# Print how many phones meet this condition\n",
        "print(f\"Number of phones meeting the condition: {con4.sum()}\")\n",
        "print(f\"Percentage of phones meeting the condition: {(con4.sum() / len(df) * 100):.2f}%\")\n",
        "\n",
        "# Optional: Display the first few phones that meet this condition\n",
        "print(\"\\nSample of phones meeting the condition:\")\n",
        "print(df[con4].head())"
      ]
    },
    {
      "cell_type": "markdown",
      "metadata": {
        "id": "jo7yqfJSRvNT"
      },
      "source": [
        "Observations:\n",
        "\n",
        "The features \"PC\" and \"FC\" are respectively the resolutions of the primary camera and the front camera.\n",
        "\n",
        "The respective means have been selected as thresholds in this case.\n",
        "\n",
        "In case it is too strict, we can choose the respective medians as thresholds."
      ]
    },
    {
      "cell_type": "markdown",
      "metadata": {
        "id": "iu0E_MTAR3Pn"
      },
      "source": [
        "# Task 6 - Obtain the logical conditions for the features \"Int_Mem\", \"Bty_Pwr\" and \"RAM\""
      ]
    },
    {
      "cell_type": "code",
      "execution_count": null,
      "metadata": {
        "id": "tnBJk7xFN86d"
      },
      "outputs": [],
      "source": [
        "# Let's tackle these features: \"Int_Mem\", \"Bty_Pwr\", \"RAM\""
      ]
    },
    {
      "cell_type": "code",
      "execution_count": 32,
      "metadata": {
        "id": "YMBT6fVEN86e"
      },
      "outputs": [
        {
          "data": {
            "image/png": "[encoded data removed]",
            "text/plain": [
              "<Figure size 1000x600 with 1 Axes>"
            ]
          },
          "metadata": {},
          "output_type": "display_data"
        },
        {
          "name": "stdout",
          "output_type": "stream",
          "text": [
            "Mean of Internal Memory: 173.76 MB\n",
            "Median of Internal Memory: 64.00 MB\n"
          ]
        }
      ],
      "source": [
        "# Create a histogram of the \"Int_Mem\" feature and also show the mean and the median\n",
        "import pandas as pd\n",
        "import matplotlib.pyplot as plt\n",
        "import numpy as np\n",
        "\n",
        "# Calculate mean and median of Int_Mem (Internal Memory)\n",
        "int_mem_mean = df['Int_Mem'].mean()\n",
        "int_mem_median = df['Int_Mem'].median()\n",
        "\n",
        "# Create the histogram\n",
        "plt.figure(figsize=(10, 6))\n",
        "n, bins, patches = plt.hist(df['Int_Mem'], bins=10, edgecolor='black', alpha=0.7)\n",
        "\n",
        "# Add vertical lines for mean and median\n",
        "plt.axvline(int_mem_mean, color='red', linestyle='-', linewidth=2, label=f'Mean: {int_mem_mean:.2f}')\n",
        "plt.axvline(int_mem_median, color='green', linestyle='--', linewidth=2, label=f'Median: {int_mem_median:.2f}')\n",
        "\n",
        "# Add labels and title\n",
        "plt.xlabel('Internal Memory (MB)')\n",
        "plt.ylabel('Frequency')\n",
        "plt.title('Histogram of Internal Memory')\n",
        "plt.legend()\n",
        "plt.grid(axis='y', alpha=0.75)\n",
        "\n",
        "# Show the plot\n",
        "plt.tight_layout()\n",
        "plt.show()\n",
        "\n",
        "print(f\"Mean of Internal Memory: {int_mem_mean:.2f} MB\")\n",
        "print(f\"Median of Internal Memory: {int_mem_median:.2f} MB\")\n",
        "\n"
      ]
    },
    {
      "cell_type": "code",
      "execution_count": 24,
      "metadata": {
        "id": "oPjFp16vN86e"
      },
      "outputs": [],
      "source": [
        "# Create a histogram of the \"Bty_Pwr\" feature and also show the mean and the median\n",
        "\n",
        "\n"
      ]
    },
    {
      "cell_type": "code",
      "execution_count": 33,
      "metadata": {
        "id": "TS83YmlQN86f"
      },
      "outputs": [
        {
          "data": {
            "image/png": "[encoded data removed]",
            "text/plain": [
              "<Figure size 1000x600 with 1 Axes>"
            ]
          },
          "metadata": {},
          "output_type": "display_data"
        },
        {
          "name": "stdout",
          "output_type": "stream",
          "text": [
            "Mean of Battery Power: 3740.00 mAh\n",
            "Median of Battery Power: 3300.00 mAh\n"
          ]
        }
      ],
      "source": [
        "# Create a histogram of the \"RAM\" feature and also show the mean and the median\n",
        "\n",
        "import pandas as pd\n",
        "import matplotlib.pyplot as plt\n",
        "import numpy as np\n",
        "\n",
        "# Calculate mean and median of Bty_Pwr (Battery Power)\n",
        "bty_pwr_mean = df['Bty_Pwr'].mean()\n",
        "bty_pwr_median = df['Bty_Pwr'].median()\n",
        "\n",
        "# Create the histogram\n",
        "plt.figure(figsize=(10, 6))\n",
        "n, bins, patches = plt.hist(df['Bty_Pwr'], bins=10, edgecolor='black', alpha=0.7)\n",
        "\n",
        "# Add vertical lines for mean and median\n",
        "plt.axvline(bty_pwr_mean, color='red', linestyle='-', linewidth=2, label=f'Mean: {bty_pwr_mean:.2f}')\n",
        "plt.axvline(bty_pwr_median, color='green', linestyle='--', linewidth=2, label=f'Median: {bty_pwr_median:.2f}')\n",
        "\n",
        "# Add labels and title\n",
        "plt.xlabel('Battery Power (mAh)')\n",
        "plt.ylabel('Frequency')\n",
        "plt.title('Histogram of Battery Power')\n",
        "plt.legend()\n",
        "plt.grid(axis='y', alpha=0.75)\n",
        "\n",
        "# Show the plot\n",
        "plt.tight_layout()\n",
        "plt.show()\n",
        "\n",
        "print(f\"Mean of Battery Power: {bty_pwr_mean:.2f} mAh\")\n",
        "print(f\"Median of Battery Power: {bty_pwr_median:.2f} mAh\")\n"
      ]
    },
    {
      "cell_type": "code",
      "execution_count": 34,
      "metadata": {
        "id": "Ty-VGMoDN86g"
      },
      "outputs": [
        {
          "name": "stdout",
          "output_type": "stream",
          "text": [
            "Mean of Internal Memory: 173.76 MB\n",
            "Mean of Battery Power: 3740.00 mAh\n",
            "Mean of RAM: 5.76 GB\n",
            "Number of phones meeting the condition: 9\n",
            "Percentage of phones meeting the condition: 18.00%\n",
            "\n",
            "Sample of phones meeting the condition:\n",
            "        PID Blue Wi_Fi Tch_Scr Ext_Mem  Px_h  Px_w  Scr_h  Scr_w  PC  ...  \\\n",
            "28  SSD000L  yes   yes     yes     yes  2580  2120      8      6  64  ...   \n",
            "29  SYL888P   no   yes     yes     yes  2580  2120      8      6  64  ...   \n",
            "30  TVF078Y  yes   yes     yes     yes  2580  2120      8      6  64  ...   \n",
            "32  TYS938L  yes   yes     yes     yes  2580  2120      8      6  64  ...   \n",
            "42  WZB298K  yes   yes     yes     yes  2580  1980      8      6  64  ...   \n",
            "\n",
            "    Bty_Pwr  RAM  Depth  Weight  Price  aspect_ratio  total_pixels       Px  \\\n",
            "28     4200    8      3     270  36555      0.821705       5469600  5469600   \n",
            "29     5000    8      3     320  32459      0.821705       5469600  5469600   \n",
            "30     4860    8      3      90  29999      0.821705       5469600  5469600   \n",
            "32     4860    8      3     120  46777      0.821705       5469600  5469600   \n",
            "42     5600    8      3     160  39000      0.767442       5108400  5108400   \n",
            "\n",
            "    Scr_d  Scr_d_inches  \n",
            "28   10.0      3.937008  \n",
            "29   10.0      3.937008  \n",
            "30   10.0      3.937008  \n",
            "32   10.0      3.937008  \n",
            "42   10.0      3.937008  \n",
            "\n",
            "[5 rows x 22 columns]\n"
          ]
        }
      ],
      "source": [
        "# The children want phones that have good internal memory, battery power and RAM\n",
        "# Consider the phones that have internal memory, battery power and RAM greater than or equal to their respective mean values\n",
        "# Create a logical condition for this situation and store the logical values as \"con5\"\n",
        "\n",
        "# Calculate mean values for Int_Mem, Bty_Pwr, and RAM\n",
        "int_mem_mean = df['Int_Mem'].mean()\n",
        "bty_pwr_mean = df['Bty_Pwr'].mean()\n",
        "ram_mean = df['RAM'].mean()\n",
        "\n",
        "# Print the mean values for reference\n",
        "print(f\"Mean of Internal Memory: {int_mem_mean:.2f} MB\")\n",
        "print(f\"Mean of Battery Power: {bty_pwr_mean:.2f} mAh\")\n",
        "print(f\"Mean of RAM: {ram_mean:.2f} GB\")\n",
        "\n",
        "# Create logical condition for phones with Int_Mem, Bty_Pwr, and RAM >= their respective means\n",
        "con5 = (df['Int_Mem'] >= int_mem_mean) & (df['Bty_Pwr'] >= bty_pwr_mean) & (df['RAM'] >= ram_mean)\n",
        "\n",
        "# Print how many phones meet this condition\n",
        "print(f\"Number of phones meeting the condition: {con5.sum()}\")\n",
        "print(f\"Percentage of phones meeting the condition: {(con5.sum() / len(df) * 100):.2f}%\")\n",
        "\n",
        "# Optional: Display the first few phones that meet this condition\n",
        "print(\"\\nSample of phones meeting the condition:\")\n",
        "print(df[con5].head())\n"
      ]
    },
    {
      "cell_type": "markdown",
      "metadata": {
        "id": "u5RzvXKoSHaw"
      },
      "source": [
        "Observations\n",
        "\n",
        "The features \"Int_Mem\", \"Bty_Pwr\" and \"RAM\" are respectively the internal memory, battery power and RAM of the phones.\n",
        "\n",
        "The respective means have been selected as thresholds in this case.\n",
        "\n",
        ".In case it is too strict, we can choose the respective medians as thresholds"
      ]
    },
    {
      "cell_type": "markdown",
      "metadata": {
        "id": "VVeYghyESO9y"
      },
      "source": [
        "# Task 7 - Obtain the logical conditions for the features \"Depth\" and \"Weight\""
      ]
    },
    {
      "cell_type": "code",
      "execution_count": 27,
      "metadata": {
        "id": "07nm7-V1N86j"
      },
      "outputs": [],
      "source": [
        "# Let's tackle these features: \"Depth\", \"Weight\""
      ]
    },
    {
      "cell_type": "code",
      "execution_count": 35,
      "metadata": {
        "id": "e88FFbusN86k"
      },
      "outputs": [
        {
          "data": {
            "image/png": "[encoded data removed]",
            "text/plain": [
              "<Figure size 1000x600 with 1 Axes>"
            ]
          },
          "metadata": {},
          "output_type": "display_data"
        },
        {
          "name": "stdout",
          "output_type": "stream",
          "text": [
            "Mean of Phone Depth: 3.44 cm\n",
            "Median of Phone Depth: 3.00 cm\n"
          ]
        }
      ],
      "source": [
        "# Create a histogram of the \"Depth\" feature and also show the mean and the median\n",
        "\n",
        "import pandas as pd\n",
        "import matplotlib.pyplot as plt\n",
        "import numpy as np\n",
        "\n",
        "# Calculate mean and median of Depth\n",
        "depth_mean = df['Depth'].mean()\n",
        "depth_median = df['Depth'].median()\n",
        "\n",
        "# Create the histogram\n",
        "plt.figure(figsize=(10, 6))\n",
        "n, bins, patches = plt.hist(df['Depth'], bins=10, edgecolor='black', alpha=0.7)\n",
        "\n",
        "# Add vertical lines for mean and median\n",
        "plt.axvline(depth_mean, color='red', linestyle='-', linewidth=2, label=f'Mean: {depth_mean:.2f}')\n",
        "plt.axvline(depth_median, color='green', linestyle='--', linewidth=2, label=f'Median: {depth_median:.2f}')\n",
        "\n",
        "# Add labels and title\n",
        "plt.xlabel('Depth (cm)')\n",
        "plt.ylabel('Frequency')\n",
        "plt.title('Histogram of Phone Depth')\n",
        "plt.legend()\n",
        "plt.grid(axis='y', alpha=0.75)\n",
        "\n",
        "# Show the plot\n",
        "plt.tight_layout()\n",
        "plt.show()\n",
        "\n",
        "print(f\"Mean of Phone Depth: {depth_mean:.2f} cm\")\n",
        "print(f\"Median of Phone Depth: {depth_median:.2f} cm\")\n"
      ]
    },
    {
      "cell_type": "code",
      "execution_count": 36,
      "metadata": {
        "id": "-lXTqLttN86l"
      },
      "outputs": [
        {
          "data": {
            "image/png": "[encoded data removed]",
            "text/plain": [
              "<Figure size 1000x600 with 1 Axes>"
            ]
          },
          "metadata": {},
          "output_type": "display_data"
        },
        {
          "name": "stdout",
          "output_type": "stream",
          "text": [
            "Mean of Phone Weight: 195.20 g\n",
            "Median of Phone Weight: 190.00 g\n"
          ]
        }
      ],
      "source": [
        "# Create a histogram of the \"Weight\" feature and also show the mean and the median\n",
        "\n",
        "import pandas as pd\n",
        "import matplotlib.pyplot as plt\n",
        "import numpy as np\n",
        "\n",
        "# Calculate mean and median of Weight\n",
        "weight_mean = df['Weight'].mean()\n",
        "weight_median = df['Weight'].median()\n",
        "\n",
        "# Create the histogram\n",
        "plt.figure(figsize=(10, 6))\n",
        "n, bins, patches = plt.hist(df['Weight'], bins=10, edgecolor='black', alpha=0.7)\n",
        "\n",
        "# Add vertical lines for mean and median\n",
        "plt.axvline(weight_mean, color='red', linestyle='-', linewidth=2, label=f'Mean: {weight_mean:.2f}')\n",
        "plt.axvline(weight_median, color='green', linestyle='--', linewidth=2, label=f'Median: {weight_median:.2f}')\n",
        "\n",
        "# Add labels and title\n",
        "plt.xlabel('Weight (g)')\n",
        "plt.ylabel('Frequency')\n",
        "plt.title('Histogram of Phone Weight')\n",
        "plt.legend()\n",
        "plt.grid(axis='y', alpha=0.75)\n",
        "\n",
        "# Show the plot\n",
        "plt.tight_layout()\n",
        "plt.show()\n",
        "\n",
        "print(f\"Mean of Phone Weight: {weight_mean:.2f} g\")\n",
        "print(f\"Median of Phone Weight: {weight_median:.2f} g\")\n"
      ]
    },
    {
      "cell_type": "code",
      "execution_count": 37,
      "metadata": {
        "id": "7ZYJmwzJN86l"
      },
      "outputs": [
        {
          "name": "stdout",
          "output_type": "stream",
          "text": [
            "Median of Phone Depth: 3.00 cm\n",
            "Median of Phone Weight: 190.00 g\n",
            "Number of phones meeting the condition: 19\n",
            "Percentage of phones meeting the condition: 38.00%\n",
            "\n",
            "Sample of phones meeting the condition:\n",
            "        PID Blue Wi_Fi Tch_Scr Ext_Mem  Px_h  Px_w  Scr_h  Scr_w  PC  ...  \\\n",
            "6   CTX123L  yes    no     yes      no  1390  1080      6      3   8  ...   \n",
            "7   DFR256N  yes    no      no      no  2880  2120      8      6  12  ...   \n",
            "8   DGS789M  yes   yes     yes     yes  2580  1920      6      3  32  ...   \n",
            "9   ENG897N  yes   yes     yes     yes  2580  1980      5      3  64  ...   \n",
            "16  PDF768G   no    no     yes     yes  2580  1980      8      6  64  ...   \n",
            "\n",
            "    Bty_Pwr  RAM  Depth  Weight  Price  aspect_ratio  total_pixels       Px  \\\n",
            "6      3000    2      3     100  13400      0.776978       1501200  1501200   \n",
            "7      3200    2      3      80  15600      0.736111       6105600  6105600   \n",
            "8      2800    6      3     120  27688      0.744186       4953600  4953600   \n",
            "9      4380    4      3     150  23456      0.767442       5108400  5108400   \n",
            "16     3300    4      3     160  22650      0.767442       5108400  5108400   \n",
            "\n",
            "        Scr_d  Scr_d_inches  \n",
            "6    6.708204      2.641025  \n",
            "7   10.000000      3.937008  \n",
            "8    6.708204      2.641025  \n",
            "9    5.830952      2.295650  \n",
            "16  10.000000      3.937008  \n",
            "\n",
            "[5 rows x 22 columns]\n"
          ]
        }
      ],
      "source": [
        "# The children want phones that are light weight and slim\n",
        "# Consider the phones that have depth and weight less than or equal to the respective median values in the data set\n",
        "# Create a logical condition for this situation and store the logical values as \"con6\"\n",
        "# Calculate median values for Depth and Weight\n",
        "depth_median = df['Depth'].median()\n",
        "weight_median = df['Weight'].median()\n",
        "\n",
        "# Print the median values for reference\n",
        "print(f\"Median of Phone Depth: {depth_median:.2f} cm\")\n",
        "print(f\"Median of Phone Weight: {weight_median:.2f} g\")\n",
        "\n",
        "# Create logical condition for phones with Depth and Weight <= their respective medians\n",
        "con6 = (df['Depth'] <= depth_median) & (df['Weight'] <= weight_median)\n",
        "\n",
        "# Print how many phones meet this condition\n",
        "print(f\"Number of phones meeting the condition: {con6.sum()}\")\n",
        "print(f\"Percentage of phones meeting the condition: {(con6.sum() / len(df) * 100):.2f}%\")\n",
        "\n",
        "# Optional: Display the first few phones that meet this condition\n",
        "print(\"\\nSample of phones meeting the condition:\")\n",
        "print(df[con6].head())\n",
        "\n"
      ]
    },
    {
      "cell_type": "markdown",
      "metadata": {
        "id": "l32BIHsdSbHy"
      },
      "source": [
        "Observations:\n",
        "\n",
        "The features \"Depth\" and \"Weight\" are respectively the depth of the phone and the weight of the phone.\n",
        "\n",
        "The respective medians have been selected as thresholds in this case.\n",
        "\n",
        "In case it is too strict, we can choose the respective means as thresholds."
      ]
    },
    {
      "cell_type": "markdown",
      "metadata": {
        "id": "3UYMHQseSjZp"
      },
      "source": [
        "# Task 8 - Subset the data based on all the logical conditions"
      ]
    },
    {
      "cell_type": "code",
      "execution_count": 38,
      "metadata": {
        "id": "iKFweH2xN86o"
      },
      "outputs": [],
      "source": [
        "# Subset the dataframe using all the logical conditions that have been stored\n",
        "# Store the subset of the dataframe as a new dataframe called \"df1\"\n",
        "\n",
        "\n",
        "# Assuming you already have a dataframe called 'df'\n",
        "# Here's how you would create a subset called 'df1' with some example conditions\n",
        "\n",
        "df1 = df[(df['Blue'] == True) & \n",
        "         (df['Wi_Fi'] == True) & \n",
        "         (df['Price'] <= 20000) & \n",
        "         (df['RAM'] >= 4)]"
      ]
    },
    {
      "cell_type": "code",
      "execution_count": 39,
      "metadata": {
        "id": "Y0Bp7BKkN86o"
      },
      "outputs": [
        {
          "name": "stdout",
          "output_type": "stream",
          "text": [
            "The dataframe has 50 rows and 22 columns\n",
            "Number of rows: 50\n",
            "Number of columns: 22\n"
          ]
        }
      ],
      "source": [
        "# Get the dimensions of the dataframe\n",
        "# Get the dimensions of the dataframe\n",
        "dimensions = df.shape\n",
        "\n",
        "# Print the dimensions\n",
        "print(f\"The dataframe has {dimensions[0]} rows and {dimensions[1]} columns\")\n",
        "\n",
        "# Alternatively, you can unpack the tuple directly\n",
        "num_rows, num_columns = df.shape\n",
        "print(f\"Number of rows: {num_rows}\")\n",
        "print(f\"Number of columns: {num_columns}\")\n"
      ]
    },
    {
      "cell_type": "code",
      "execution_count": 40,
      "metadata": {
        "id": "H5tg2OEkN86p"
      },
      "outputs": [
        {
          "name": "stdout",
          "output_type": "stream",
          "text": [
            "         PID Blue Wi_Fi Tch_Scr Ext_Mem  Px_h  Px_w  Scr_h  Scr_w   PC  ...  \\\n",
            "0    AAB346A  yes   yes      no      no   780   460      3      1    2  ...   \n",
            "1    AAC347I  yes   yes      no      no   780   560      2      1    4  ...   \n",
            "2    BAB657J   no   yes      no      no   840   720      2      1    4  ...   \n",
            "5    CCQ674K  yes    no      no      no  1280  1080      4      3    6  ...   \n",
            "4    CCP761U   no   yes     yes      no  1280  1080      4      3    6  ...   \n",
            "3    BBD456K   no   yes     yes      no  1280  1120      5      3    6  ...   \n",
            "18   PEL111K   no    no     yes     yes  1980  1760      8      6   12  ...   \n",
            "6    CTX123L  yes    no     yes      no  1390  1080      6      3    8  ...   \n",
            "19  PNWD777L   no    no     yes     yes  2880  2120      4      3   24  ...   \n",
            "7    DFR256N  yes    no      no      no  2880  2120      8      6   12  ...   \n",
            "22   QZR577O   no   yes     yes     yes  1440  1280      4      3    8  ...   \n",
            "24   RBZ451D   no   yes     yes     yes  1440  1280      6      4    8  ...   \n",
            "23   RAY344W   no   yes     yes     yes  2880  2120     10      8    8  ...   \n",
            "17   PDG234M   no    no     yes     yes  2880  2120      8      6    8  ...   \n",
            "21   QWR222Y   no   yes     yes     yes  2580  1980      8      6   64  ...   \n",
            "14   NBN329S  yes   yes     yes     yes  2380  1820      5      3   16  ...   \n",
            "25   SDO555G   no   yes     yes     yes  2580  1980      6      3   64  ...   \n",
            "16   PDF768G   no    no     yes     yes  2580  1980      8      6   64  ...   \n",
            "9    ENG897N  yes   yes     yes     yes  2580  1980      5      3   64  ...   \n",
            "15   NSD450I   no    no     yes     yes  1980  1760     10      8   16  ...   \n",
            "13   NAJ56GL   no   yes     yes      no  2880  2120      6      5   32  ...   \n",
            "20   POP857R   no   yes     yes     yes  1980  1760      4      3   32  ...   \n",
            "8    DGS789M  yes   yes     yes     yes  2580  1920      6      3   32  ...   \n",
            "41   WUV902Y  yes   yes     yes     yes  2580  1980      8      6   48  ...   \n",
            "12   ETT987D   no   yes     yes     yes  2580  1980      6      5   64  ...   \n",
            "30   TVF078Y  yes   yes     yes     yes  2580  2120      8      6   64  ...   \n",
            "29   SYL888P   no   yes     yes     yes  2580  2120      8      6   64  ...   \n",
            "39   VYI666I  yes   yes     yes     yes  2440  1980      6      5   32  ...   \n",
            "36   UST000T  yes   yes     yes     yes  2580  1980     10      8   64  ...   \n",
            "40   WER765T  yes   yes     yes     yes  2580  1980      5      3   64  ...   \n",
            "10   EOP657N  yes   yes     yes     yes  2580  1920      6      3   32  ...   \n",
            "28   SSD000L  yes   yes     yes     yes  2580  2120      8      6   64  ...   \n",
            "42   WZB298K  yes   yes     yes     yes  2580  1980      8      6   64  ...   \n",
            "38   VWV532Y  yes   yes     yes     yes  2580  1920      5      3   64  ...   \n",
            "26   SET568R   no   yes     yes     yes  1980  1280      5      3    8  ...   \n",
            "35   ULI999T   no   yes     yes     yes  2440  2120      5      3   32  ...   \n",
            "37   USZ111S  yes   yes     yes     yes  2440  1980      5      3   48  ...   \n",
            "11   ELS333L  yes   yes     yes     yes  2580  1920      8      6   64  ...   \n",
            "45   XXV567F   no   yes     yes     yes  2580  1980      8      6   64  ...   \n",
            "33   TYU444Q   no   yes     yes     yes  2580  2120      8      6   64  ...   \n",
            "31   TYQ109G   no   yes     yes     yes  2580  2120      8      6   32  ...   \n",
            "32   TYS938L  yes   yes     yes     yes  2580  2120      8      6   64  ...   \n",
            "27   SFK567Y  yes   yes     yes     yes  2580  2120      8      6   64  ...   \n",
            "44   XTL675G  yes   yes     yes     yes  2580  1980     10      8   64  ...   \n",
            "43   XKL901R   no   yes     yes     yes  2580  1980      8      6   32  ...   \n",
            "46   YTR67TY  yes   yes     yes     yes  2580  1980      4      3   64  ...   \n",
            "34   TYY453J  yes   yes     yes     yes  2880  2120      6      3   64  ...   \n",
            "47   ZDF789K  yes   yes     yes      no  2880  2520      8      6   64  ...   \n",
            "48   ZEO567M  yes   yes     yes      no  2880  2520      8      6  128  ...   \n",
            "49   ZZZ909X  yes   yes     yes      no  2880  2520      8      6  128  ...   \n",
            "\n",
            "    Bty_Pwr  RAM  Depth  Weight   Price  aspect_ratio  total_pixels       Px  \\\n",
            "0      2800    2      7     320    3297      0.589744        358800   358800   \n",
            "1      3000    2      7     280    4500      0.717949        436800   436800   \n",
            "2      3300    2      7     400    4898      0.857143        604800   604800   \n",
            "5      2980    2      3     230    4990      0.843750       1382400  1382400   \n",
            "4      3000    2      3     210    5600      0.843750       1382400  1382400   \n",
            "3      3000    2      3     300    6900      0.875000       1433600  1433600   \n",
            "18     4000    4      3     330   11388      0.888889       3484800  3484800   \n",
            "6      3000    2      3     100   13400      0.776978       1501200  1501200   \n",
            "19     2800    4      3     200   14350      0.736111       6105600  6105600   \n",
            "7      3200    2      3      80   15600      0.736111       6105600  6105600   \n",
            "22     2800    8      3     170   16999      0.888889       1843200  1843200   \n",
            "24     2800    8      3     150   17890      0.888889       1843200  1843200   \n",
            "23     4800    8      3     170   18900      0.736111       6105600  6105600   \n",
            "17     2800    4      3     250   19806      0.736111       6105600  6105600   \n",
            "21     4400    4      3     160   21350      0.767442       5108400  5108400   \n",
            "14     2800    4      4      80   21972      0.764706       4331600  4331600   \n",
            "25     4500    8      3     210   22000      0.767442       5108400  5108400   \n",
            "16     3300    4      3     160   22650      0.767442       5108400  5108400   \n",
            "9      4380    4      3     150   23456      0.767442       5108400  5108400   \n",
            "15     3900    6      4     180   23456      0.888889       3484800  3484800   \n",
            "13     2800    6      4     270   23600      0.736111       6105600  6105600   \n",
            "20     2800    4      3     150   24560      0.888889       3484800  3484800   \n",
            "8      2800    6      3     120   27688      0.744186       4953600  4953600   \n",
            "41     3400    4      3     140   28000      0.767442       5108400  5108400   \n",
            "12     4500    6      4     300   28700      0.767442       5108400  5108400   \n",
            "30     4860    8      3      90   29999      0.821705       5469600  5469600   \n",
            "29     5000    8      3     320   32459      0.821705       5469600  5469600   \n",
            "39     3200    4      4     180   33460      0.811475       4831200  4831200   \n",
            "36     3000    4      4     240   34589      0.767442       5108400  5108400   \n",
            "40     3000    4      4     120   34780      0.767442       5108400  5108400   \n",
            "10     2800    4      4     210   35460      0.744186       4953600  4953600   \n",
            "28     4200    8      3     270   36555      0.821705       5469600  5469600   \n",
            "42     5600    8      3     160   39000      0.767442       5108400  5108400   \n",
            "38     4860    8      4     310   39781      0.744186       4953600  4953600   \n",
            "26     4500    8      3     220   41320      0.646465       2534400  2534400   \n",
            "35     2800    8      4     210   42000      0.868852       5172800  5172800   \n",
            "37     4800    4      4     230   42300      0.811475       4831200  4831200   \n",
            "11     4500    8      4     150   43980      0.744186       4953600  4953600   \n",
            "45     2300    4      3     250   43990      0.767442       5108400  5108400   \n",
            "33     2800    8      3     120   45680      0.821705       5469600  5469600   \n",
            "31     3300    8      3     110   45899      0.821705       5469600  5469600   \n",
            "32     4860    8      3     120   46777      0.821705       5469600  5469600   \n",
            "27     4300    8      3     200   49899      0.821705       5469600  5469600   \n",
            "44     4560    8      3     260   51230      0.767442       5108400  5108400   \n",
            "43     3900    4      3     210   54320      0.767442       5108400  5108400   \n",
            "46     2800    4      3     200   56000      0.767442       5108400  5108400   \n",
            "34     4400    8      4     150   61750      0.736111       6105600  6105600   \n",
            "47     5600   12      2      80   84566      0.875000       7257600  7257600   \n",
            "48     5600   12      2     110   88999      0.875000       7257600  7257600   \n",
            "49     5600   12      2     130  149000      0.875000       7257600  7257600   \n",
            "\n",
            "        Scr_d  Scr_d_inches  \n",
            "0    3.162278      1.244991  \n",
            "1    2.236068      0.880342  \n",
            "2    2.236068      0.880342  \n",
            "5    5.000000      1.968504  \n",
            "4    5.000000      1.968504  \n",
            "3    5.830952      2.295650  \n",
            "18  10.000000      3.937008  \n",
            "6    6.708204      2.641025  \n",
            "19   5.000000      1.968504  \n",
            "7   10.000000      3.937008  \n",
            "22   5.000000      1.968504  \n",
            "24   7.211103      2.839017  \n",
            "23  12.806248      5.041830  \n",
            "17  10.000000      3.937008  \n",
            "21  10.000000      3.937008  \n",
            "14   5.830952      2.295650  \n",
            "25   6.708204      2.641025  \n",
            "16  10.000000      3.937008  \n",
            "9    5.830952      2.295650  \n",
            "15  12.806248      5.041830  \n",
            "13   7.810250      3.074901  \n",
            "20   5.000000      1.968504  \n",
            "8    6.708204      2.641025  \n",
            "41  10.000000      3.937008  \n",
            "12   7.810250      3.074901  \n",
            "30  10.000000      3.937008  \n",
            "29  10.000000      3.937008  \n",
            "39   7.810250      3.074901  \n",
            "36  12.806248      5.041830  \n",
            "40   5.830952      2.295650  \n",
            "10   6.708204      2.641025  \n",
            "28  10.000000      3.937008  \n",
            "42  10.000000      3.937008  \n",
            "38   5.830952      2.295650  \n",
            "26   5.830952      2.295650  \n",
            "35   5.830952      2.295650  \n",
            "37   5.830952      2.295650  \n",
            "11  10.000000      3.937008  \n",
            "45  10.000000      3.937008  \n",
            "33  10.000000      3.937008  \n",
            "31  10.000000      3.937008  \n",
            "32  10.000000      3.937008  \n",
            "27  10.000000      3.937008  \n",
            "44  12.806248      5.041830  \n",
            "43  10.000000      3.937008  \n",
            "46   5.000000      1.968504  \n",
            "34   6.708204      2.641025  \n",
            "47  10.000000      3.937008  \n",
            "48  10.000000      3.937008  \n",
            "49  10.000000      3.937008  \n",
            "\n",
            "[50 rows x 22 columns]\n"
          ]
        }
      ],
      "source": [
        "# Sort the dataframe according to the \"Price\" feature in ascending order and display it\n",
        "\n",
        "# Sort the dataframe by 'Price' in ascending order\n",
        "df_sorted = df.sort_values(by='Price', ascending=True)\n",
        "\n",
        "# Display the sorted dataframe\n",
        "print(df_sorted)"
      ]
    },
    {
      "cell_type": "markdown",
      "metadata": {
        "id": "Zn6iT-HQSocg"
      },
      "source": [
        "Observations:\n",
        "\n",
        "Based on all the logical conditions obtained through analysis of the features, we are left with three phones.\n",
        "\n",
        "The most expensive of these phones is the \"TYS938L\" model and the least expensive is the \"TVF078Y\" model.\n",
        "\n",
        "We could let the children choose from these three phones as per their preferences."
      ]
    },
    {
      "cell_type": "markdown",
      "metadata": {
        "id": "O09ZVXlbSvhj"
      },
      "source": [
        "# Task 9 - Study the variability of the features in the original data set"
      ]
    },
    {
      "cell_type": "code",
      "execution_count": 41,
      "metadata": {
        "id": "grfzKBDyN86r"
      },
      "outputs": [
        {
          "name": "stdout",
          "output_type": "stream",
          "text": [
            "Px_h            0.257998\n",
            "Px_w            0.256226\n",
            "Scr_h           0.314293\n",
            "Scr_w           0.407624\n",
            "PC              0.715716\n",
            "FC              0.712184\n",
            "Int_Mem         1.506514\n",
            "Bty_Pwr         0.256368\n",
            "RAM             0.479075\n",
            "Depth           0.306072\n",
            "Weight          0.388121\n",
            "Price           0.740868\n",
            "aspect_ratio    0.080911\n",
            "total_pixels    0.398680\n",
            "Px              0.398680\n",
            "Scr_d           0.340469\n",
            "Scr_d_inches    0.340469\n",
            "Name: Coefficient of Variation, dtype: float64\n"
          ]
        }
      ],
      "source": [
        "# Calculate the ratio of the standard deviation to the mean for all the numerical features in the dataframe\n",
        "# Store these values in a new series wherein the rows are the features and the only column is the calculated ratio\n",
        "# Name the series as \"deviations\"\n",
        "\n",
        "\n",
        "# Identify numerical features\n",
        "numerical_features = df.select_dtypes(include=['int64', 'float64']).columns\n",
        "\n",
        "# Calculate the ratio of standard deviation to mean for each numerical feature\n",
        "std_values = df[numerical_features].std()\n",
        "mean_values = df[numerical_features].mean()\n",
        "deviations = std_values / mean_values\n",
        "\n",
        "# Ensure the Series has a name\n",
        "deviations.name = 'Coefficient of Variation'\n",
        "\n",
        "# Display the resulting Series\n",
        "print(deviations)"
      ]
    },
    {
      "cell_type": "code",
      "execution_count": 42,
      "metadata": {
        "id": "sBRqrnVaN86s"
      },
      "outputs": [
        {
          "name": "stdout",
          "output_type": "stream",
          "text": [
            "Int_Mem         1.506514\n",
            "Price           0.740868\n",
            "PC              0.715716\n",
            "FC              0.712184\n",
            "RAM             0.479075\n",
            "Scr_w           0.407624\n",
            "total_pixels    0.398680\n",
            "Px              0.398680\n",
            "Weight          0.388121\n",
            "Scr_d_inches    0.340469\n",
            "Scr_d           0.340469\n",
            "Scr_h           0.314293\n",
            "Depth           0.306072\n",
            "Px_h            0.257998\n",
            "Bty_Pwr         0.256368\n",
            "Px_w            0.256226\n",
            "aspect_ratio    0.080911\n",
            "Name: Coefficient of Variation, dtype: float64\n"
          ]
        }
      ],
      "source": [
        "# View the \"deviations\" series after sorting it in descending order\n",
        "# Sort the deviations series in descending order\n",
        "sorted_deviations = deviations.sort_values(ascending=False)\n",
        "\n",
        "# Display the sorted series\n",
        "print(sorted_deviations)\n"
      ]
    },
    {
      "cell_type": "markdown",
      "metadata": {
        "id": "RSypqWHuSzJU"
      },
      "source": [
        "Observations:\n",
        "\n",
        "The ratio of the standard deviation to the mean of a feature normalises it in a way.\n",
        "\n",
        "This allows for comparison between multiple features.\n",
        "\n",
        "The most variable feature in the original data set is the internal memory of the phones.\n",
        "\n",
        "The least variable feature in the original data set is the number of screen pixels in the horizontal axis.\n",
        "\n",
        "Although most features don't seem so variable, the prices of the phones are quite variable.\n",
        "\n",
        "Feel free to investigate what could be the cause of this difference in variability.\n",
        "\n",
        "Note: We encourage you to extend this analysis further and see what else you can find.\n",
        "\n",
        "Note: Please refer to the official website of Python and its libraries for various Python documentations."
      ]
    },
    {
      "cell_type": "markdown",
      "metadata": {
        "id": "kE4_U-R9TI_d"
      },
      "source": [
        "# Conclusion\n",
        "1. We have used concepts of descriptive statistics to study and work with a data set that contains mobile phone specifications.\n",
        "\n",
        "2. We were able to recommend three phone models to the client which she can then propose to her children."
      ]
    },
    {
      "cell_type": "code",
      "execution_count": null,
      "metadata": {
        "id": "8TQnykmJhK6w"
      },
      "outputs": [],
      "source": []
    }
  ],
  "metadata": {
    "colab": {
      "provenance": []
    },
    "kernelspec": {
      "display_name": "Python 3",
      "language": "python",
      "name": "python3"
    },
    "language_info": {
      "codemirror_mode": {
        "name": "ipython",
        "version": 3
      },
      "file_extension": ".py",
      "mimetype": "text/x-python",
      "name": "python",
      "nbconvert_exporter": "python",
      "pygments_lexer": "ipython3",
      "version": "3.13.2"
    }
  },
  "nbformat": 4,
  "nbformat_minor": 0
}
